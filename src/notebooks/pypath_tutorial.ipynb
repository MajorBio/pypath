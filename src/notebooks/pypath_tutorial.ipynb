{
 "cells": [
  {
   "cell_type": "markdown",
   "metadata": {},
   "source": [
    "# The pypath tutorial collection"
   ]
  },
  {
   "cell_type": "markdown",
   "metadata": {},
   "source": [
    "Before April 2019 on the OmniPath webpage (http://omnipathdb.org/) we had a few tutorials for `pypath`. However over the past years we developed a lot `pypath` and especially recently a number of important points in the interface changed (although we wanted to keep compatibility as much as possible). This is a new comprehensive tutorial which replaced the previous tutorials by April 2019 and has been updated in August 2019."
   ]
  },
  {
   "cell_type": "markdown",
   "metadata": {},
   "source": [
    "## Table of contents\n",
    "* [1: Quick start – How do I build OmniPath data with *pypath*?](#quick-start)\n",
    "* [2: Quick start – I just want a network quickly and play around with *pypath*](#quick-start-2)\n",
    "* [3: Quick start – How do I build networks from any data with *pypath*?](#quick-start-3)\n",
    "    * [3a: Defining input formats](#input-formats)\n",
    "    * [3b: Creating PyPath object and loading the 2 test files](#toy-example)\n",
    "* [4: Plotting the network with *igraph*](#plot)\n",
    "* [5: Building networks](#building-networks)\n",
    "    * [5a: Which network datasets are pre-defined in pypath?](#network-resources)\n",
    "* [6: How to access the network](#access-network)\n",
    "* [7: Directions and signs](#directions)\n",
    "* [8: Accessing nodes in the network](#nodes)\n",
    "* [9: Querying relationships with our without causality](#causality)\n",
    "* [10: Accessing edges by identifiers](#edge-lookup)\n",
    "* [11: Literature references](#references)\n",
    "* [12: Translating identifiers](#mapping)\n",
    "* [13: Enzyme-substrate interactions](#enz-sub)\n",
    "* [14: Annotations](#annotations)\n",
    "* [15: Gene Ontology](#gene-ontology)\n",
    "* [16: Protein complexes](#complexes)\n",
    "* [17: Saving datasets as pickles](#pickle)\n",
    "* [18: Network in *pandas.DataFrame*](#network-pandas)\n",
    "* [19: Log messages and sessions](#log-session)\n",
    "* [20: BEL export](#bel)\n",
    "* [21: CellPhoneDB export](#cellphonedb)"
   ]
  },
  {
   "cell_type": "markdown",
   "metadata": {},
   "source": [
    "## 1: Quick start – How do I build *OmniPath* data with *pypath*? <a class=\"anchor\" id=\"quick-start\"></a>"
   ]
  },
  {
   "cell_type": "markdown",
   "metadata": {},
   "source": [
    "``pypath`` provides an easy way to build the OmniPath network as it has been described in our paper. At the first time this will take several minutes, because all data will be downloaded from the original providers. Next time pypath will use the data from its cache directory, so the network will build much faster. If you want to load it even faster, you can save it into a pickle dump."
   ]
  },
  {
   "cell_type": "code",
   "execution_count": 10,
   "metadata": {},
   "outputs": [],
   "source": [
    "from pypath import main\n",
    "from pypath import settings"
   ]
  },
  {
   "cell_type": "code",
   "execution_count": null,
   "metadata": {},
   "outputs": [],
   "source": [
    "pa = main.PyPath()\n",
    "#pa.load_omnipath() # This is commented out because it takes > 1h \n",
    "                    # to run it for the first time due to the vast\n",
    "                    # amount of data download.\n",
    "                    # Once you populated the cache it still takes\n",
    "                    # approx. 30 min to build the entire OmniPath\n",
    "                    # as the process consists of quite some data\n",
    "                    # processing. If you dump it in a pickle, you\n",
    "                    # can load the network in < 1 min"
   ]
  },
  {
   "cell_type": "markdown",
   "metadata": {},
   "source": [
    "## 2: Quick start – I just want a network quickly and play around with *pypath* <a class=\"anchor\" id=\"quick-start-2\"></a>"
   ]
  },
  {
   "cell_type": "markdown",
   "metadata": {},
   "source": [
    "You can find the predefined formats in the ``pypath.data_formats`` module. For example, to load one resource from there, let's say Signor:"
   ]
  },
  {
   "cell_type": "code",
   "execution_count": 2,
   "metadata": {},
   "outputs": [
    {
     "name": "stdout",
     "output_type": "stream",
     "text": [
      "\n"
     ]
    }
   ],
   "source": [
    "from pypath import main\n",
    "from pypath import data_formats\n",
    "pa = main.PyPath()\n",
    "pa.load_resources({'signor': data_formats.pathway['signor']})"
   ]
  },
  {
   "cell_type": "markdown",
   "metadata": {},
   "source": [
    "Or to load all *activity flow* resources with *literature references:*"
   ]
  },
  {
   "cell_type": "code",
   "execution_count": 3,
   "metadata": {},
   "outputs": [],
   "source": [
    "from pypath import main\n",
    "from pypath import data_formats"
   ]
  },
  {
   "cell_type": "code",
   "execution_count": 4,
   "metadata": {},
   "outputs": [
    {
     "name": "stdout",
     "output_type": "stream",
     "text": [
      "\n"
     ]
    }
   ],
   "source": [
    "pa = main.PyPath()\n",
    "pa.init_network(data_formats.pathway)"
   ]
  },
  {
   "cell_type": "markdown",
   "metadata": {},
   "source": [
    "Or to load all *activity flow* resources, including the ones without literature references:"
   ]
  },
  {
   "cell_type": "code",
   "execution_count": 5,
   "metadata": {},
   "outputs": [
    {
     "name": "stdout",
     "output_type": "stream",
     "text": [
      "\n"
     ]
    }
   ],
   "source": [
    "pa = main.PyPath()\n",
    "pa.init_network(data_formats.pathway_all)"
   ]
  },
  {
   "cell_type": "markdown",
   "metadata": {},
   "source": [
    "## 3: Quick start – How do I build networks from any data with *pypath*? <a class=\"anchor\" id=\"quick-start-3\"></a>"
   ]
  },
  {
   "cell_type": "markdown",
   "metadata": {},
   "source": [
    "Here we show how to build a network from your own files. The advantage of building network with pypath is that you don't need to worry about merging redundant elements, neither about different formats and identifiers. Let's say you have two files with network data:\n",
    "\n",
    "**network1.csv**\n",
    "\n",
    "    entrezA,entrezB,effect\n",
    "    1950,1956,inhibition\n",
    "    5290,207,stimulation\n",
    "    207,2932,inhibition\n",
    "    1956,5290,stimulation\n",
    "\n",
    "**network2.sif**\n",
    "\n",
    "    EGF + EGFR\n",
    "    EGFR + PIK3CA\n",
    "    EGFR + SOS1\n",
    "    PIK3CA + RAC1\n",
    "    RAC1 + MAP3K1\n",
    "    SOS1 + HRAS\n",
    "    HRAS + MAP3K1\n",
    "    PIK3CA + AKT1\n",
    "    AKT1 - GSK3B\n",
    "    \n",
    "*Note: you need to create these files in order to load them.*"
   ]
  },
  {
   "cell_type": "markdown",
   "metadata": {},
   "source": [
    "### 3a: Defining input formats <a class=\"anchor\" id=\"input-formats\"></a>"
   ]
  },
  {
   "cell_type": "code",
   "execution_count": 6,
   "metadata": {},
   "outputs": [],
   "source": [
    "import pypath\n",
    "import pypath.input_formats as input_formats\n",
    "\n",
    "input1 = input_formats.ReadSettings(\n",
    "    name = 'egf1',\n",
    "    input = 'network1.csv',\n",
    "    header = True,\n",
    "    separator = ',',\n",
    "    id_col_a = 0,\n",
    "    id_col_b = 1,\n",
    "    id_type_a = 'entrez',\n",
    "    id_type_b = 'entrez',\n",
    "    sign = (2, 'stimulation', 'inhibition'),\n",
    "    ncbi_tax_id = 9606,\n",
    ")\n",
    "\n",
    "input2 = input_formats.ReadSettings(\n",
    "    name = 'egf2',\n",
    "    input = 'network2.sif',\n",
    "    separator = ' ',\n",
    "    id_col_a = 0,\n",
    "    id_col_b = 2,\n",
    "    id_type_a = 'genesymbol',\n",
    "    id_type_b = 'genesymbol',\n",
    "    sign = (1, '+', '-'),\n",
    "    ncbi_tax_id = 9606,\n",
    ")"
   ]
  },
  {
   "cell_type": "markdown",
   "metadata": {},
   "source": [
    "### 3b: Creating PyPath object and loading the 2 test files <a class=\"anchor\" id=\"toy-example\"></a>"
   ]
  },
  {
   "cell_type": "code",
   "execution_count": 7,
   "metadata": {},
   "outputs": [
    {
     "name": "stdout",
     "output_type": "stream",
     "text": [
      "\n"
     ]
    }
   ],
   "source": [
    "inputs = {\n",
    "    'egf1': input1,\n",
    "    'egf2': input2\n",
    "}\n",
    "\n",
    "pa = main.PyPath()\n",
    "pa.reload()\n",
    "pa.init_network(lst = inputs)"
   ]
  },
  {
   "cell_type": "markdown",
   "metadata": {},
   "source": [
    "## 4: Plotting the network with *igraph* <a class=\"anchor\" id=\"plot\"></a>"
   ]
  },
  {
   "cell_type": "markdown",
   "metadata": {},
   "source": [
    "Here we use the network created above (because it is reasonable size, not like the networks we could get from most of the network databases). Igraph has excellent plotting capabilities built on top of the *cairo* library."
   ]
  },
  {
   "cell_type": "code",
   "execution_count": 8,
   "metadata": {
    "scrolled": true
   },
   "outputs": [
    {
     "data": {
      "image/png": "[encoded data removed]",
      "text/plain": [
       "<IPython.core.display.Image object>"
      ]
     },
     "execution_count": 8,
     "metadata": {},
     "output_type": "execute_result"
    }
   ],
   "source": [
    "import igraph\n",
    "plot = igraph.plot(pa.graph, target = 'egf_network.png',\n",
    "            edge_width = 0.3, edge_color = '#777777',\n",
    "            vertex_color = '#97BE73', vertex_frame_width = 0,\n",
    "            vertex_size = 70.0, vertex_label_size = 15,\n",
    "            vertex_label_color = '#FFFFFF',\n",
    "            # due to a bug in either igraph or IPython, \n",
    "            # vertex labels are not visible on inline plots:\n",
    "            inline = False, margin = 120)\n",
    "from IPython.display import Image\n",
    "Image(filename='egf_network.png')"
   ]
  },
  {
   "cell_type": "markdown",
   "metadata": {},
   "source": [
    "## 5: Building networks <a class=\"anchor\" id=\"building-networks\"></a>"
   ]
  },
  {
   "cell_type": "markdown",
   "metadata": {},
   "source": [
    "For this you will need the `PyPath` class from the `pypath.main` module which takes care about building and querying the network. Also you need the `pypath.data_formats` module where you find a number of predefined input settings organized in larger categories (e.g. activity flow, enzyme-substrate, transcriptional regulation, etc). These input settings will tell `pypath` how to download and process the data."
   ]
  },
  {
   "cell_type": "code",
   "execution_count": 20,
   "metadata": {},
   "outputs": [],
   "source": [
    "from pypath import main\n",
    "from pypath import data_formats"
   ]
  },
  {
   "cell_type": "markdown",
   "metadata": {},
   "source": [
    "For example `data_formats.pathway` is a collection of databases which fit into the activity flow concept, i.e. one protein either stimulates or inhibits the other. It is a dictionary with names as keys and the input settings as values:"
   ]
  },
  {
   "cell_type": "code",
   "execution_count": 9,
   "metadata": {},
   "outputs": [
    {
     "data": {
      "text/plain": [
       "{'trip': <pypath.input_formats.ReadSettings at 0x6da2497bc940>,\n",
       " 'spike': <pypath.input_formats.ReadSettings at 0x6da2497bc9b0>,\n",
       " 'signalink3': <pypath.input_formats.ReadSettings at 0x6da2497bc9e8>,\n",
       " 'guide2pharma': <pypath.input_formats.ReadSettings at 0x6da2497bca20>,\n",
       " 'ca1': <pypath.input_formats.ReadSettings at 0x6da2497bca58>,\n",
       " 'arn': <pypath.input_formats.ReadSettings at 0x6da2497bcac8>,\n",
       " 'nrf2': <pypath.input_formats.ReadSettings at 0x6da2497bcb00>,\n",
       " 'macrophage': <pypath.input_formats.ReadSettings at 0x6da2497bca90>,\n",
       " 'death': <pypath.input_formats.ReadSettings at 0x6da2497bcb38>,\n",
       " 'pdz': <pypath.input_formats.ReadSettings at 0x6da2497bcb70>,\n",
       " 'signor': <pypath.input_formats.ReadSettings at 0x6da2497bcba8>,\n",
       " 'adhesome': <pypath.input_formats.ReadSettings at 0x6da2497bcbe0>,\n",
       " 'hpmr': <pypath.input_formats.ReadSettings at 0x6da2497c0908>,\n",
       " 'cellphonedb': <pypath.input_formats.ReadSettings at 0x6da2497c09e8>,\n",
       " 'ramilowski2015': <pypath.input_formats.ReadSettings at 0x6da2497c0ac8>}"
      ]
     },
     "execution_count": 9,
     "metadata": {},
     "output_type": "execute_result"
    }
   ],
   "source": [
    "data_formats.pathway"
   ]
  },
  {
   "cell_type": "markdown",
   "metadata": {},
   "source": [
    "Such a dictionary you can pass to the `init_network` method of the `PyPath` object. Then it will download the data from the original sources, translate the identifiers and merge the networks. Pypath stores all downloaded data in a cache, by default `~/.pypath/cache` in your user's home directory. For this reason when you load a resource for the first time it might take long but next time will be faster as data will be fetched from the cache. First create a `pypath.main.PyPath` object, then build the network:"
   ]
  },
  {
   "cell_type": "code",
   "execution_count": 10,
   "metadata": {},
   "outputs": [
    {
     "name": "stdout",
     "output_type": "stream",
     "text": [
      "\n"
     ]
    }
   ],
   "source": [
    "pa = main.PyPath()\n",
    "pa.init_network(data_formats.pathway)"
   ]
  },
  {
   "cell_type": "markdown",
   "metadata": {},
   "source": [
    "You can add more resource sets a similar way:"
   ]
  },
  {
   "cell_type": "code",
   "execution_count": 23,
   "metadata": {},
   "outputs": [
    {
     "name": "stdout",
     "output_type": "stream",
     "text": [
      "\n"
     ]
    }
   ],
   "source": [
    "pa.load_resources(data_formats.ptm)"
   ]
  },
  {
   "cell_type": "markdown",
   "metadata": {},
   "source": [
    "To load one single resource simply create a one element dict:"
   ]
  },
  {
   "cell_type": "code",
   "execution_count": 24,
   "metadata": {},
   "outputs": [
    {
     "name": "stdout",
     "output_type": "stream",
     "text": [
      "\n"
     ]
    }
   ],
   "source": [
    "pa.load_resources({'matrixdb': data_formats.interaction['matrixdb']})"
   ]
  },
  {
   "cell_type": "markdown",
   "metadata": {},
   "source": [
    "### 5a: Which network datasets are pre-defined in pypath? <a class=\"anchor\" id=\"network-resources\"></a>"
   ]
  },
  {
   "cell_type": "markdown",
   "metadata": {},
   "source": [
    "You can find all the pre-defined datasets in the `pypath.data_formats` module. As already we mentined above, the `pathway` dataset contains the literature curated activity flow resources. This was the original focus of pypath and OmniPath, however since then we added a great variety of other kinds of resource definitions. Here we give an overview of these."
   ]
  },
  {
   "cell_type": "markdown",
   "metadata": {},
   "source": [
    "* `data_formats.pathway`: activity flow networks with literature references\n",
    "* `data_formats.activity_flow`: synonym for `pathway`\n",
    "* `data_formats.pathway_noref`: activity flow networks without literature references\n",
    "* `data_formats.pathway_all`: all activity flow data\n",
    "* `data_formats.ptm`: enzyme-substrate interaction networks with literature references\n",
    "* `data_formats.enzyme_substrate`: synonym for `ptm`\n",
    "* `data_formats.ptm_noref`: enzyme-substrate networks without literature references\n",
    "* `data_formats.ptm_all`: all enzyme-substrate data\n",
    "* `data_formats.interaction`: undirected interactions from both literature curated and high-throughput collections (e.g. IntAct, BioGRID)\n",
    "* `data_formats.interaction_misc`: undirected, high-scale interaction networks without the constraint of having any literature reference (e.g. the unbiased human interactome screen from the Vidal lab)\n",
    "* `data_formats.transcription_onebyone`: transcriptional regulation databases (TF-target interactions) with all databases downloaded directly and processed by `pypath`\n",
    "* `data_formats.transcription`: transcriptional regulation only from the DoRothEA data\n",
    "* `data_formats.mirna_target`: miRNA-mRNA interactions from literature curated resources\n",
    "* `data_formats.tf_mirna`: transcriptional regulation of miRNA from literature curated resources\n",
    "* `data_formats.lncrna_protein`: lncRNA-protein interactions from literature curated datasets\n",
    "* `data_formats.ligand_receptor`: ligand-receptor interactions from both literature curated and other kinds of resources\n",
    "* `data_formats.pathwaycommons`: the PathwayCommons database\n",
    "* `data_formats.reaction`: process description databases; not guaranteed to work at this moment\n",
    "* `data_formats.reaction_misc`: alternative definitions to load process description databases; not guaranteed to work at this moment\n",
    "* `data_formats.small_molecule_protein`: signaling interactions between small molecules and proteins"
   ]
  },
  {
   "cell_type": "markdown",
   "metadata": {},
   "source": [
    "To see the list of the resources in a dataset, you can check the dict keys or the `name` attribute of each element:"
   ]
  },
  {
   "cell_type": "code",
   "execution_count": 17,
   "metadata": {},
   "outputs": [
    {
     "data": {
      "text/plain": [
       "dict_keys(['trip', 'spike', 'signalink3', 'guide2pharma', 'ca1', 'arn', 'nrf2', 'macrophage', 'death', 'pdz', 'signor', 'adhesome', 'hpmr', 'cellphonedb', 'ramilowski2015'])"
      ]
     },
     "execution_count": 17,
     "metadata": {},
     "output_type": "execute_result"
    }
   ],
   "source": [
    "data_formats.pathway.keys()"
   ]
  },
  {
   "cell_type": "code",
   "execution_count": 19,
   "metadata": {},
   "outputs": [
    {
     "data": {
      "text/plain": [
       "['TRIP',\n",
       " 'SPIKE',\n",
       " 'SignaLink3',\n",
       " 'Guide2Pharma',\n",
       " 'CA1',\n",
       " 'ARN',\n",
       " 'NRF2ome',\n",
       " 'Macrophage',\n",
       " 'DeathDomain',\n",
       " 'PDZBase',\n",
       " 'Signor',\n",
       " 'Adhesome',\n",
       " 'HPMR',\n",
       " 'CellPhoneDB',\n",
       " 'Ramilowski2015']"
      ]
     },
     "execution_count": 19,
     "metadata": {},
     "output_type": "execute_result"
    }
   ],
   "source": [
    "[resource.name for resource in data_formats.pathway.values()]"
   ]
  },
  {
   "cell_type": "markdown",
   "metadata": {},
   "source": [
    "## 6: How to access the network <a class=\"anchor\" id=\"access-network\"></a>"
   ]
  },
  {
   "cell_type": "markdown",
   "metadata": {},
   "source": [
    "Once you built a network you can use it for various purposes and write your own scripts for further processing or analysis. The network is represented by an `igraph` object ([igraph.org](http://igraph.org/)):"
   ]
  },
  {
   "cell_type": "code",
   "execution_count": 25,
   "metadata": {},
   "outputs": [
    {
     "data": {
      "text/plain": [
       "<igraph.Graph at 0x6ee60f2c7318>"
      ]
     },
     "execution_count": 25,
     "metadata": {},
     "output_type": "execute_result"
    }
   ],
   "source": [
    "pa.graph"
   ]
  },
  {
   "cell_type": "markdown",
   "metadata": {},
   "source": [
    "Number of edges and nodes:"
   ]
  },
  {
   "cell_type": "code",
   "execution_count": 12,
   "metadata": {},
   "outputs": [
    {
     "data": {
      "text/plain": [
       "(22101, 5184)"
      ]
     },
     "execution_count": 12,
     "metadata": {},
     "output_type": "execute_result"
    }
   ],
   "source": [
    "pa.ecount, pa.vcount"
   ]
  },
  {
   "cell_type": "markdown",
   "metadata": {},
   "source": [
    "The edge and vertex sequences you can access in the `es` and `vs` attributes, you can iterate these or index by integers. The edge and vertex attributes you can access by string keys. E.g. get the sources of edge 0:"
   ]
  },
  {
   "cell_type": "code",
   "execution_count": 15,
   "metadata": {},
   "outputs": [
    {
     "data": {
      "text/plain": [
       "{'SPIKE', 'SignaLink3'}"
      ]
     },
     "execution_count": 15,
     "metadata": {},
     "output_type": "execute_result"
    }
   ],
   "source": [
    "pa.graph.es[81]['sources']"
   ]
  },
  {
   "cell_type": "markdown",
   "metadata": {},
   "source": [
    "## 7: Directions and signs <a class=\"anchor\" id=\"directions\"></a>"
   ]
  },
  {
   "cell_type": "markdown",
   "metadata": {},
   "source": [
    "By default the `igraph` object is undirected but it carries all direction information in Python objects assigned to each edge. Pypath can convert it to a directed `igraph` object, but you still need the `Direction` objects to have the signs, as `igraph` has no signed network representation. Certain methods need the directed `igraph` object and they will automatically create it, but you can create it manually:"
   ]
  },
  {
   "cell_type": "code",
   "execution_count": 40,
   "metadata": {},
   "outputs": [],
   "source": [
    "pa.get_directed()"
   ]
  },
  {
   "cell_type": "markdown",
   "metadata": {},
   "source": [
    "You find the directed network in the `pa.dgraph` attribute:"
   ]
  },
  {
   "cell_type": "code",
   "execution_count": 41,
   "metadata": {},
   "outputs": [
    {
     "data": {
      "text/plain": [
       "<igraph.Graph at 0x6ee649d04318>"
      ]
     },
     "execution_count": 41,
     "metadata": {},
     "output_type": "execute_result"
    }
   ],
   "source": [
    "pa.dgraph"
   ]
  },
  {
   "cell_type": "markdown",
   "metadata": {},
   "source": [
    "Now let's take a look on the `pypath.main.Direction` objects which contain details about directions and signs. First as an example, select a random edge:"
   ]
  },
  {
   "cell_type": "code",
   "execution_count": 54,
   "metadata": {},
   "outputs": [],
   "source": [
    "edge = pa.graph.es[3241]"
   ]
  },
  {
   "cell_type": "markdown",
   "metadata": {},
   "source": [
    "The `Direction` object is in the `dirs` edge attribute:"
   ]
  },
  {
   "cell_type": "code",
   "execution_count": 55,
   "metadata": {},
   "outputs": [],
   "source": [
    "d = edge['dirs']"
   ]
  },
  {
   "cell_type": "markdown",
   "metadata": {},
   "source": [
    "It has a method to print its content a human readable way:"
   ]
  },
  {
   "cell_type": "code",
   "execution_count": 56,
   "metadata": {},
   "outputs": [
    {
     "name": "stdout",
     "output_type": "stream",
     "text": [
      "Directions and signs of interaction between Q13489 and Q13546\n",
      "\n",
      "\tQ13489 ===> Q13546 :: SPIKE, SignaLink3\n",
      "\tQ13489 <=== Q13546 :: SignaLink3\n",
      "\tQ13489 =+=> Q13546 :: SPIKE\n",
      "\n"
     ]
    }
   ],
   "source": [
    "print(pa.graph.es[3241]['dirs'])"
   ]
  },
  {
   "cell_type": "markdown",
   "metadata": {},
   "source": [
    "From this we see the databases phosphoELM and Signor agree that protein `P17252` has an effect on `Q15139` and Signor in addition tells us this effect is stimulatory. However in your scripts you can query the `Direction` objects a number of ways. Each `Direction` object calls the two possible directions either straight or reverse:"
   ]
  },
  {
   "cell_type": "code",
   "execution_count": 57,
   "metadata": {},
   "outputs": [
    {
     "data": {
      "text/plain": [
       "('Q13489', 'Q13546')"
      ]
     },
     "execution_count": 57,
     "metadata": {},
     "output_type": "execute_result"
    }
   ],
   "source": [
    "d.straight"
   ]
  },
  {
   "cell_type": "code",
   "execution_count": 58,
   "metadata": {},
   "outputs": [
    {
     "data": {
      "text/plain": [
       "('Q13546', 'Q13489')"
      ]
     },
     "execution_count": 58,
     "metadata": {},
     "output_type": "execute_result"
    }
   ],
   "source": [
    "d.reverse"
   ]
  },
  {
   "cell_type": "markdown",
   "metadata": {},
   "source": [
    "It can tell you if one of these directions is supported by any of the network resources:"
   ]
  },
  {
   "cell_type": "code",
   "execution_count": 59,
   "metadata": {},
   "outputs": [
    {
     "data": {
      "text/plain": [
       "True"
      ]
     },
     "execution_count": 59,
     "metadata": {},
     "output_type": "execute_result"
    }
   ],
   "source": [
    "d.get_dir(d.straight)"
   ]
  },
  {
   "cell_type": "markdown",
   "metadata": {},
   "source": [
    "Or it can return those resources:"
   ]
  },
  {
   "cell_type": "code",
   "execution_count": 60,
   "metadata": {},
   "outputs": [
    {
     "data": {
      "text/plain": [
       "{'SPIKE', 'SignaLink3'}"
      ]
     },
     "execution_count": 60,
     "metadata": {},
     "output_type": "execute_result"
    }
   ],
   "source": [
    "d.get_dir(d.straight, sources = True)"
   ]
  },
  {
   "cell_type": "markdown",
   "metadata": {},
   "source": [
    "The opposite direction is not supported by any resource:"
   ]
  },
  {
   "cell_type": "code",
   "execution_count": 61,
   "metadata": {},
   "outputs": [
    {
     "data": {
      "text/plain": [
       "{'SignaLink3'}"
      ]
     },
     "execution_count": 61,
     "metadata": {},
     "output_type": "execute_result"
    }
   ],
   "source": [
    "d.get_dir(d.reverse, sources = True)"
   ]
  },
  {
   "cell_type": "markdown",
   "metadata": {},
   "source": [
    "Similar way the signs can be queried. The returned pair of boolean values mean if the interaction in this direction is stimulatory or inhibitory, respectively."
   ]
  },
  {
   "cell_type": "code",
   "execution_count": 62,
   "metadata": {},
   "outputs": [
    {
     "data": {
      "text/plain": [
       "[True, False]"
      ]
     },
     "execution_count": 62,
     "metadata": {},
     "output_type": "execute_result"
    }
   ],
   "source": [
    "d.get_sign(d.straight)"
   ]
  },
  {
   "cell_type": "markdown",
   "metadata": {},
   "source": [
    "Or you can ask whether it is inhibition:"
   ]
  },
  {
   "cell_type": "code",
   "execution_count": 63,
   "metadata": {},
   "outputs": [
    {
     "data": {
      "text/plain": [
       "False"
      ]
     },
     "execution_count": 63,
     "metadata": {},
     "output_type": "execute_result"
    }
   ],
   "source": [
    "d.is_inhibition(d.straight)"
   ]
  },
  {
   "cell_type": "markdown",
   "metadata": {},
   "source": [
    "Or if the interaction is directed at all:"
   ]
  },
  {
   "cell_type": "code",
   "execution_count": 64,
   "metadata": {},
   "outputs": [
    {
     "data": {
      "text/plain": [
       "True"
      ]
     },
     "execution_count": 64,
     "metadata": {},
     "output_type": "execute_result"
    }
   ],
   "source": [
    "d.is_directed()"
   ]
  },
  {
   "cell_type": "markdown",
   "metadata": {},
   "source": [
    "Sometimes resources don't agree, for example one tells an interaction is inhibition while according to others it is stimulation; or one tells A effects B and another resource the other way around. Here we preserve all these potentially contradicting information in the `Direction` object and at the end you decide what to do with it depending on your purpose. If you want to get rid of ambiguity there is a method to get a consensus direction and sign which returns the attributes the most resources agree on: "
   ]
  },
  {
   "cell_type": "code",
   "execution_count": 65,
   "metadata": {},
   "outputs": [
    {
     "data": {
      "text/plain": [
       "[['Q13489', 'Q13546', 'directed', 'positive']]"
      ]
     },
     "execution_count": 65,
     "metadata": {},
     "output_type": "execute_result"
    }
   ],
   "source": [
    "d.consensus_edges()"
   ]
  },
  {
   "cell_type": "markdown",
   "metadata": {},
   "source": [
    "## 8: Accessing nodes in the network <a class=\"anchor\" id=\"nodes\"></a>"
   ]
  },
  {
   "cell_type": "markdown",
   "metadata": {},
   "source": [
    "In `igraph` the vertices are numbered but this numbering can change at certain operations. Instead the we can use the vertex attributes. In `PyPath` for proteins the `name` attribute is UniProt ID by default and the `label` is Gene Symbol."
   ]
  },
  {
   "cell_type": "code",
   "execution_count": 66,
   "metadata": {},
   "outputs": [
    {
     "data": {
      "text/plain": [
       "['P63000', 'O00161', 'Q9GZU1', 'Q96H20', 'Q9NWB7']"
      ]
     },
     "execution_count": 66,
     "metadata": {},
     "output_type": "execute_result"
    }
   ],
   "source": [
    "pa.graph.vs['name'][:5]"
   ]
  },
  {
   "cell_type": "code",
   "execution_count": 67,
   "metadata": {},
   "outputs": [
    {
     "data": {
      "text/plain": [
       "['RAC1', 'SNAP23', 'MCOLN1', 'SNF8', 'IFT57']"
      ]
     },
     "execution_count": 67,
     "metadata": {},
     "output_type": "execute_result"
    }
   ],
   "source": [
    "pa.graph.vs['label'][:5]"
   ]
  },
  {
   "cell_type": "markdown",
   "metadata": {},
   "source": [
    "The `PyPath` object offers a number of helper methods to access the nodes by their names. For example, `uniprot` or `up` returns the `igraph.Vertex` for a UniProt ID:"
   ]
  },
  {
   "cell_type": "code",
   "execution_count": 68,
   "metadata": {},
   "outputs": [
    {
     "data": {
      "text/plain": [
       "igraph.Vertex"
      ]
     },
     "execution_count": 68,
     "metadata": {},
     "output_type": "execute_result"
    }
   ],
   "source": [
    "type(pa.up('P00533'))"
   ]
  },
  {
   "cell_type": "markdown",
   "metadata": {},
   "source": [
    "Similarly `genesymbol` or `gs` for Gene Symbols:"
   ]
  },
  {
   "cell_type": "code",
   "execution_count": 36,
   "metadata": {},
   "outputs": [
    {
     "data": {
      "text/plain": [
       "igraph.Vertex"
      ]
     },
     "execution_count": 36,
     "metadata": {},
     "output_type": "execute_result"
    }
   ],
   "source": [
    "type(pa.gs('ESR1'))"
   ]
  },
  {
   "cell_type": "markdown",
   "metadata": {},
   "source": [
    "Each of these has a \"plural\" version:"
   ]
  },
  {
   "cell_type": "code",
   "execution_count": 69,
   "metadata": {},
   "outputs": [
    {
     "data": {
      "text/plain": [
       "3"
      ]
     },
     "execution_count": 69,
     "metadata": {},
     "output_type": "execute_result"
    }
   ],
   "source": [
    "len(list(pa.gss(['MTOR', 'ATG16L2', 'ULK1'])))"
   ]
  },
  {
   "cell_type": "markdown",
   "metadata": {},
   "source": [
    "And a generic method where you can mix UniProts and Gene Symbols:"
   ]
  },
  {
   "cell_type": "code",
   "execution_count": 70,
   "metadata": {},
   "outputs": [
    {
     "data": {
      "text/plain": [
       "2"
      ]
     },
     "execution_count": 70,
     "metadata": {},
     "output_type": "execute_result"
    }
   ],
   "source": [
    "len(list(pa.proteins(['MTOR', 'P00533'])))"
   ]
  },
  {
   "cell_type": "markdown",
   "metadata": {},
   "source": [
    "## 9: Querying relationships with our without causality <a class=\"anchor\" id=\"causality\"></a>"
   ]
  },
  {
   "cell_type": "markdown",
   "metadata": {},
   "source": [
    "Above you could see how to query the directions and names of individual edges and nodes. Building on top of these, other methods give a way to query causality, i.e. which proteins are affected by an other one, and which others are its regulators. The example below returns the nodes PIK3CA is stimulated by, the `gs` prefix tells we query by the Gene Symbol:"
   ]
  },
  {
   "cell_type": "code",
   "execution_count": 71,
   "metadata": {},
   "outputs": [
    {
     "data": {
      "text/plain": [
       "<pypath.main._NamedVertexSeq at 0x6ee604b0a8c8>"
      ]
     },
     "execution_count": 71,
     "metadata": {},
     "output_type": "execute_result"
    }
   ],
   "source": [
    "pa.gs_stimulated_by('PIK3CA')"
   ]
  },
  {
   "cell_type": "markdown",
   "metadata": {},
   "source": [
    "It returns a so called `_NamedVertexSeq` object, which you can get a series of `igraph.Vertex` objects or Gene Symbols or UniProt IDs from:"
   ]
  },
  {
   "cell_type": "code",
   "execution_count": 72,
   "metadata": {},
   "outputs": [
    {
     "data": {
      "text/plain": [
       "['NTRK1', 'SRC', 'GAB1', 'PTPN11', 'NRAS']"
      ]
     },
     "execution_count": 72,
     "metadata": {},
     "output_type": "execute_result"
    }
   ],
   "source": [
    "list(pa.gs_stimulated_by('PIK3CA').gs())[:5]"
   ]
  },
  {
   "cell_type": "code",
   "execution_count": 73,
   "metadata": {},
   "outputs": [
    {
     "data": {
      "text/plain": [
       "['P04629', 'P12931', 'Q13480', 'Q06124', 'P01111']"
      ]
     },
     "execution_count": 73,
     "metadata": {},
     "output_type": "execute_result"
    }
   ],
   "source": [
    "list(pa.gs_stimulated_by('PIK3CA').up())[:5]"
   ]
  },
  {
   "cell_type": "markdown",
   "metadata": {},
   "source": [
    "Note, the names of these methods are a bit contraintuitive, the for example the `gs_stimulates` returns the genes stimulated by PIK3CA:"
   ]
  },
  {
   "cell_type": "code",
   "execution_count": 74,
   "metadata": {},
   "outputs": [
    {
     "data": {
      "text/plain": [
       "['MTOR', 'AKT1']"
      ]
     },
     "execution_count": 74,
     "metadata": {},
     "output_type": "execute_result"
    }
   ],
   "source": [
    "list(pa.gs_stimulates('PIK3CA').gs())[:5]"
   ]
  },
  {
   "cell_type": "code",
   "execution_count": 75,
   "metadata": {},
   "outputs": [
    {
     "data": {
      "text/plain": [
       "True"
      ]
     },
     "execution_count": 75,
     "metadata": {},
     "output_type": "execute_result"
    }
   ],
   "source": [
    "'PIK3CA' in set(pa.affected_by('AKT1').gs())"
   ]
  },
  {
   "cell_type": "markdown",
   "metadata": {},
   "source": [
    "There are many similary methods, `inhibited_by` returns negative regulators, `affected_by` does not consider +/- signs, without `gs_` and `up_` prefixes you can provide either of these identifiers, `neighbors` does not consider the direction. At the end `.gs()` converts the result for a list of Gene Symbols, `up()` to UniProts, `.ids()` to vertex IDs and by default it yields `igraph.Vertex` objects:"
   ]
  },
  {
   "cell_type": "code",
   "execution_count": 76,
   "metadata": {},
   "outputs": [
    {
     "data": {
      "text/plain": [
       "[0, 32, 38, 50, 69]"
      ]
     },
     "execution_count": 76,
     "metadata": {},
     "output_type": "execute_result"
    }
   ],
   "source": [
    "list(pa.neighbors('AKT1').ids())[:5]"
   ]
  },
  {
   "cell_type": "markdown",
   "metadata": {},
   "source": [
    "Finally, with `neighborhood` methods return the indirect neighborhood in custom number of steps (however size of the neighborhood increases rapidly with number of steps):"
   ]
  },
  {
   "cell_type": "code",
   "execution_count": 77,
   "metadata": {},
   "outputs": [
    {
     "name": "stdout",
     "output_type": "stream",
     "text": [
      "['ATG3', 'GABARAP', 'ATG5', 'GABARAPL2', 'ATG12', 'ATG7', 'CFLAR', 'MAP1LC3B', 'MAP1LC3A', 'TP63']\n"
     ]
    }
   ],
   "source": [
    "print(list(pa.neighborhood('ATG3', 1).gs()))"
   ]
  },
  {
   "cell_type": "code",
   "execution_count": 78,
   "metadata": {},
   "outputs": [
    {
     "name": "stdout",
     "output_type": "stream",
     "text": [
      "['ATG3', 'GABARAP', 'ATG5', 'GABARAPL2', 'ATG12', 'ATG7', 'CFLAR', 'MAP1LC3B', 'MAP1LC3A', 'TP63', 'TRPV1', 'CLTC', 'FNBP1', 'NBR1', 'BNIP3L', 'ATG13', 'SQSTM1', 'RB1CC1', 'FYCO1', 'ATG4B', 'ULK1', 'ULK2', 'DVL2', 'OPTN', 'IFIH1', 'BCL2L1', 'ATF4', 'TP73', 'WDFY3', 'CAPN2', 'FADD', 'CAPN1', 'ATG10', 'DDX58', 'DDIT3', 'MAVS', 'ATG16L1', 'ATG16L2', 'TECPR1', 'PPHLN1', 'COX5B', 'UBA5', 'NEK9', 'ATG4A', 'BNIP3', 'NIPSNAP2', 'EP300', 'FOXO1', 'HSF1', 'TAX1BP3', 'ITCH', 'RIPK1', 'FAS', 'NFKB1', 'PRKCB', 'RIPK2', 'TRAF2', 'AR', 'CASP8', 'AKT1', 'MAP3K14', 'CASP10', 'PRKACA', 'MAP1B', 'EGR1', 'MAPK8', 'KEAP1', 'ZKSCAN3', 'TFEB', 'P27791', 'TBC1D5', 'E2F1', 'MAP1A', 'RAB3GAP1', 'HNRNPAB', 'FBXW7', 'ATM', 'TP53', 'MDM2', 'RPS6KB1', 'CDK2', 'IKBKB', 'ATG9A', 'BECN1']\n"
     ]
    }
   ],
   "source": [
    "print(list(pa.neighborhood('ATG3', 2).gs()))"
   ]
  },
  {
   "cell_type": "code",
   "execution_count": 79,
   "metadata": {},
   "outputs": [
    {
     "data": {
      "text/plain": [
       "1735"
      ]
     },
     "execution_count": 79,
     "metadata": {},
     "output_type": "execute_result"
    }
   ],
   "source": [
    "len(list(pa.neighborhood('ATG3', 3).gs()))"
   ]
  },
  {
   "cell_type": "code",
   "execution_count": 80,
   "metadata": {},
   "outputs": [
    {
     "data": {
      "text/plain": [
       "5344"
      ]
     },
     "execution_count": 80,
     "metadata": {},
     "output_type": "execute_result"
    }
   ],
   "source": [
    "len(list(pa.neighborhood('ATG3', 4).gs()))"
   ]
  },
  {
   "cell_type": "markdown",
   "metadata": {},
   "source": [
    "## 10: Accessing edges by identifiers <a class=\"anchor\" id=\"edge-lookup\"></a>"
   ]
  },
  {
   "cell_type": "markdown",
   "metadata": {},
   "source": [
    "Just like nodes also edges can be accessed by identifiers like Gene Symbols. `get_edge` returns an `igraph.Edge` if the edge exists otherwise `None`."
   ]
  },
  {
   "cell_type": "code",
   "execution_count": 81,
   "metadata": {},
   "outputs": [
    {
     "data": {
      "text/plain": [
       "igraph.Edge"
      ]
     },
     "execution_count": 81,
     "metadata": {},
     "output_type": "execute_result"
    }
   ],
   "source": [
    "type(pa.get_edge('EGF', 'EGFR'))"
   ]
  },
  {
   "cell_type": "code",
   "execution_count": 82,
   "metadata": {},
   "outputs": [
    {
     "data": {
      "text/plain": [
       "igraph.Edge"
      ]
     },
     "execution_count": 82,
     "metadata": {},
     "output_type": "execute_result"
    }
   ],
   "source": [
    "type(pa.get_edge('EGF', 'P00533'))"
   ]
  },
  {
   "cell_type": "code",
   "execution_count": 83,
   "metadata": {},
   "outputs": [
    {
     "data": {
      "text/plain": [
       "NoneType"
      ]
     },
     "execution_count": 83,
     "metadata": {},
     "output_type": "execute_result"
    }
   ],
   "source": [
    "type(pa.get_edge('EGF', 'AKT1'))"
   ]
  },
  {
   "cell_type": "code",
   "execution_count": 84,
   "metadata": {},
   "outputs": [
    {
     "name": "stdout",
     "output_type": "stream",
     "text": [
      "Directions and signs of interaction between P00533 and P01133\n",
      "\n",
      "\tP00533 <=== P01133 :: SPIKE, HPMR, SignaLink3\n",
      "\tP00533 <=+= P01133 :: SPIKE, SignaLink3\n",
      "\n"
     ]
    }
   ],
   "source": [
    "print(pa.get_edge('EGF', 'EGFR')['dirs'])"
   ]
  },
  {
   "cell_type": "markdown",
   "metadata": {},
   "source": [
    "## 11: Literature references <a class=\"anchor\" id=\"references\"></a>"
   ]
  },
  {
   "cell_type": "markdown",
   "metadata": {},
   "source": [
    "Select a random edge and in the `references` attribute you find a list of references:"
   ]
  },
  {
   "cell_type": "code",
   "execution_count": 86,
   "metadata": {},
   "outputs": [
    {
     "data": {
      "text/plain": [
       "[<pypath.refs.Reference at 0x6ee605f6dd98>,\n",
       " <pypath.refs.Reference at 0x6ee605f6dd68>]"
      ]
     },
     "execution_count": 86,
     "metadata": {},
     "output_type": "execute_result"
    }
   ],
   "source": [
    "edge = pa.get_edge( 'MAP1LC3B', 'SQSTM1')\n",
    "edge['references']"
   ]
  },
  {
   "cell_type": "markdown",
   "metadata": {},
   "source": [
    "Each reference has a PubMed ID:"
   ]
  },
  {
   "cell_type": "code",
   "execution_count": 132,
   "metadata": {},
   "outputs": [
    {
     "data": {
      "text/plain": [
       "'17580304'"
      ]
     },
     "execution_count": 132,
     "metadata": {},
     "output_type": "execute_result"
    }
   ],
   "source": [
    "edge['references'][0].pmid"
   ]
  },
  {
   "cell_type": "code",
   "execution_count": 133,
   "metadata": {},
   "outputs": [],
   "source": [
    "edge['references'][0].open()"
   ]
  },
  {
   "cell_type": "markdown",
   "metadata": {},
   "source": [
    "These 3 references come from 3 different databases, but there must be 2 overlaps between them:"
   ]
  },
  {
   "cell_type": "code",
   "execution_count": 87,
   "metadata": {},
   "outputs": [
    {
     "data": {
      "text/plain": [
       "{'NRF2ome': {<pypath.refs.Reference at 0x6ee605f6dd98>},\n",
       " 'ELM': {<pypath.refs.Reference at 0x6ee5fdc8cd98>,\n",
       "  <pypath.refs.Reference at 0x6ee605f6dd68>}}"
      ]
     },
     "execution_count": 87,
     "metadata": {},
     "output_type": "execute_result"
    }
   ],
   "source": [
    "edge['refs_by_source']"
   ]
  },
  {
   "cell_type": "markdown",
   "metadata": {},
   "source": [
    "## 12: Translating identifiers <a class=\"anchor\" id=\"mapping\"></a>"
   ]
  },
  {
   "cell_type": "markdown",
   "metadata": {},
   "source": [
    "The `pypath.mapping` module is for ID translation, most of the time you can simply call the `map_name` method:"
   ]
  },
  {
   "cell_type": "code",
   "execution_count": 20,
   "metadata": {},
   "outputs": [
    {
     "data": {
      "text/plain": [
       "{'EGFR'}"
      ]
     },
     "execution_count": 20,
     "metadata": {},
     "output_type": "execute_result"
    }
   ],
   "source": [
    "from pypath import mapping\n",
    "mapping.map_name('P00533', 'uniprot', 'genesymbol')"
   ]
  },
  {
   "cell_type": "code",
   "execution_count": 21,
   "metadata": {},
   "outputs": [
    {
     "data": {
      "text/plain": [
       "{'O75385'}"
      ]
     },
     "execution_count": 21,
     "metadata": {},
     "output_type": "execute_result"
    }
   ],
   "source": [
    "mapping.map_name('8408', 'entrez', 'uniprot')"
   ]
  },
  {
   "cell_type": "markdown",
   "metadata": {},
   "source": [
    "A number of mapping tables are predefined and loaded automatically. However it does not translate in 2 steps if no direct translation table is available. For example *Entrez* to *Gene Symbol* you can translate this way:"
   ]
  },
  {
   "cell_type": "code",
   "execution_count": 22,
   "metadata": {},
   "outputs": [
    {
     "data": {
      "text/plain": [
       "{'ULK1'}"
      ]
     },
     "execution_count": 22,
     "metadata": {},
     "output_type": "execute_result"
    }
   ],
   "source": [
    "mapping.map_names(\n",
    "    mapping.map_name('8408', 'entrez', 'uniprot'),\n",
    "    'uniprot',\n",
    "    'genesymbol',\n",
    ")"
   ]
  },
  {
   "cell_type": "markdown",
   "metadata": {},
   "source": [
    "By default the `map_name` function returns a `set` because it accounts for ambiguous mapping. However most often the ID translation is unambiguous, and you want to retrieve only one ID. The `map_name0` returns a string, even in case of ambiguity, it returns a random element from the resulted set:"
   ]
  },
  {
   "cell_type": "code",
   "execution_count": 23,
   "metadata": {},
   "outputs": [
    {
     "data": {
      "text/plain": [
       "'Q9BY60'"
      ]
     },
     "execution_count": 23,
     "metadata": {},
     "output_type": "execute_result"
    }
   ],
   "source": [
    "mapping.map_name0('GABARAPL3', 'genesymbol', 'uniprot')"
   ]
  },
  {
   "cell_type": "markdown",
   "metadata": {},
   "source": [
    "## 13: Enzyme-substrate interactions <a class=\"anchor\" id=\"enz-sub\"></a>"
   ]
  },
  {
   "cell_type": "markdown",
   "metadata": {},
   "source": [
    "The `pypath.ptm` module builds a database of enzyme-substrate interactions."
   ]
  },
  {
   "cell_type": "code",
   "execution_count": null,
   "metadata": {},
   "outputs": [],
   "source": [
    "from pypath import ptm\n",
    "ptm_db = ptm.get_db()"
   ]
  },
  {
   "cell_type": "markdown",
   "metadata": {},
   "source": [
    "Here you got a dictionary with pairs of UniProt IDs as keys and a list of special objects representing enzyme-substrate interactions as values:"
   ]
  },
  {
   "cell_type": "code",
   "execution_count": null,
   "metadata": {},
   "outputs": [],
   "source": [
    "print(ptm_db.enz_sub[('Q13177', 'P01236')][0])"
   ]
  },
  {
   "cell_type": "markdown",
   "metadata": {},
   "source": [
    "Alternatively the enzyme-substrate interactions can be assigned to network edges:"
   ]
  },
  {
   "cell_type": "code",
   "execution_count": null,
   "metadata": {},
   "outputs": [],
   "source": [
    "pa.load_ptms2()"
   ]
  },
  {
   "cell_type": "code",
   "execution_count": null,
   "metadata": {},
   "outputs": [],
   "source": [
    "print(pa.graph.es['ptm'][444][0])"
   ]
  },
  {
   "cell_type": "markdown",
   "metadata": {},
   "source": [
    "## 14: Annotations <a class=\"anchor\" id=\"annotations\"></a>"
   ]
  },
  {
   "cell_type": "markdown",
   "metadata": {},
   "source": [
    "This module provides various annotations about the function and location of the proteins."
   ]
  },
  {
   "cell_type": "code",
   "execution_count": 24,
   "metadata": {},
   "outputs": [],
   "source": [
    "from pypath import annot\n",
    "a = annot.get_db()"
   ]
  },
  {
   "cell_type": "markdown",
   "metadata": {},
   "source": [
    "OmniPath contains annotations from 27 resources. These provide various information about the characteristics of the proteins, e.g. their localization or function. The `AnnotationTable` object loads all annotations by default, optionally you can limit this to certain resources. For example, if you only want to load the pathway membership annotations from SIGNOR, SignaLink, NetPath and KEGG, you can provide the names of the appropriate classes:"
   ]
  },
  {
   "cell_type": "code",
   "execution_count": 25,
   "metadata": {},
   "outputs": [],
   "source": [
    "pathways = annot.AnnotationTable(\n",
    "    protein_sources = (\n",
    "        'SignalinkPathways',\n",
    "        'KeggPathways',\n",
    "        'NetpathPathways',\n",
    "        'SignorPathways',\n",
    "    )\n",
    ")"
   ]
  },
  {
   "cell_type": "markdown",
   "metadata": {},
   "source": [
    "The `AnnotationTable` object provides methods to query all resources together, or build a boolean array out of them. To see all annotations of one protein:"
   ]
  },
  {
   "cell_type": "code",
   "execution_count": 26,
   "metadata": {},
   "outputs": [
    {
     "data": {
      "text/plain": [
       "[SignalinkPathway(pathway='TNF/Apoptosis', core=True),\n",
       " SignalinkPathway(pathway='RTK', core=True),\n",
       " SignalinkPathway(pathway='WNT', core=True),\n",
       " SignalinkPathway(pathway='IIP', core=True),\n",
       " KeggPathway(pathway='Proteoglycans in cancer'),\n",
       " KeggPathway(pathway='Pathways in cancer'),\n",
       " KeggPathway(pathway='Pancreatic cancer'),\n",
       " KeggPathway(pathway='Central carbon metabolism in cancer'),\n",
       " KeggPathway(pathway='Phospholipase D signaling pathway'),\n",
       " KeggPathway(pathway='Human cytomegalovirus infection'),\n",
       " KeggPathway(pathway='Oxytocin signaling pathway'),\n",
       " KeggPathway(pathway='Hepatocellular carcinoma'),\n",
       " KeggPathway(pathway='Bladder cancer'),\n",
       " KeggPathway(pathway='Endocrine resistance'),\n",
       " KeggPathway(pathway='Prostate cancer'),\n",
       " KeggPathway(pathway='Estrogen signaling pathway'),\n",
       " KeggPathway(pathway='Breast cancer'),\n",
       " KeggPathway(pathway='ErbB signaling pathway'),\n",
       " KeggPathway(pathway='Non-small cell lung cancer'),\n",
       " KeggPathway(pathway='FoxO signaling pathway'),\n",
       " KeggPathway(pathway='Glioma'),\n",
       " KeggPathway(pathway='Parathyroid hormone synthesis, secretion and action'),\n",
       " KeggPathway(pathway='Regulation of actin cytoskeleton'),\n",
       " KeggPathway(pathway='Human papillomavirus infection'),\n",
       " KeggPathway(pathway='GnRH signaling pathway'),\n",
       " KeggPathway(pathway='Relaxin signaling pathway'),\n",
       " KeggPathway(pathway='Adherens junction'),\n",
       " KeggPathway(pathway='EGFR tyrosine kinase inhibitor resistance'),\n",
       " KeggPathway(pathway='Colorectal cancer'),\n",
       " KeggPathway(pathway='HIF-1 signaling pathway'),\n",
       " KeggPathway(pathway='Hepatitis C'),\n",
       " KeggPathway(pathway='Choline metabolism in cancer'),\n",
       " KeggPathway(pathway='Epithelial cell signaling in Helicobacter pylori infection'),\n",
       " KeggPathway(pathway='Melanoma'),\n",
       " KeggPathway(pathway='Endocytosis'),\n",
       " KeggPathway(pathway='Focal adhesion'),\n",
       " KeggPathway(pathway='Cushing syndrome'),\n",
       " KeggPathway(pathway='Calcium signaling pathway'),\n",
       " KeggPathway(pathway='Endometrial cancer'),\n",
       " KeggPathway(pathway='Gap junction'),\n",
       " NetpathPathway(pathway='Leptin'),\n",
       " NetpathPathway(pathway='Epidermal growth factor receptor (EGFR)'),\n",
       " NetpathPathway(pathway='Gastrin'),\n",
       " NetpathPathway(pathway='Receptor activator of nuclear factor kappa-B ligand (RANKL)'),\n",
       " NetpathPathway(pathway='Prolactin'),\n",
       " NetpathPathway(pathway='Follicle-stimulating hormone (FSH)'),\n",
       " NetpathPathway(pathway='Advanced glycation end-products (AGE/RAGE)'),\n",
       " NetpathPathway(pathway='Tumor necrosis factor (TNF) alpha'),\n",
       " NetpathPathway(pathway='Androgen receptor (AR)'),\n",
       " NetpathPathway(pathway='Alpha6 Beta4 Integrin'),\n",
       " SignorPathway(pathway='EGFR'),\n",
       " SignorPathway(pathway='Glioblastoma Multiforme'),\n",
       " SignorPathway(pathway='PI3K/AKT')]"
      ]
     },
     "execution_count": 26,
     "metadata": {},
     "output_type": "execute_result"
    }
   ],
   "source": [
    "pathways.all_annotations('P00533')"
   ]
  },
  {
   "cell_type": "code",
   "execution_count": 27,
   "metadata": {},
   "outputs": [],
   "source": [
    "pathways.create_dataframe = True\n",
    "pathways.make_dataframe()"
   ]
  },
  {
   "cell_type": "code",
   "execution_count": 32,
   "metadata": {},
   "outputs": [
    {
     "data": {
      "text/html": [
       "<div>\n",
       "<style scoped>\n",
       "    .dataframe tbody tr th:only-of-type {\n",
       "        vertical-align: middle;\n",
       "    }\n",
       "\n",
       "    .dataframe tbody tr th {\n",
       "        vertical-align: top;\n",
       "    }\n",
       "\n",
       "    .dataframe thead th {\n",
       "        text-align: right;\n",
       "    }\n",
       "</style>\n",
       "<table border=\"1\" class=\"dataframe\">\n",
       "  <thead>\n",
       "    <tr style=\"text-align: right;\">\n",
       "      <th></th>\n",
       "      <th>SignaLink3</th>\n",
       "      <th>SignaLink3__</th>\n",
       "      <th>SignaLink3__BCR</th>\n",
       "      <th>SignaLink3__GPCR</th>\n",
       "      <th>SignaLink3__HH</th>\n",
       "      <th>SignaLink3__HIPPO</th>\n",
       "      <th>SignaLink3__Hedgehog</th>\n",
       "      <th>SignaLink3__Hippo</th>\n",
       "      <th>SignaLink3__IIP</th>\n",
       "      <th>SignaLink3__JAK/STAT</th>\n",
       "      <th>...</th>\n",
       "      <th>CellPhoneDB_complex__Cytokine receptor IL3 family</th>\n",
       "      <th>CellPhoneDB_complex__Cytokine receptor IL6 family</th>\n",
       "      <th>CellPhoneDB_complex__Cytokine receptor IL6 family, IL12 subfamily</th>\n",
       "      <th>CellPhoneDB_complex__Cytokine receptor family</th>\n",
       "      <th>CellPhoneDB_complex__Human IgG receptor</th>\n",
       "      <th>CellPhoneDB_complex__Receptor</th>\n",
       "      <th>CellPhoneDB_complex__T cell receptor add</th>\n",
       "      <th>CellPhoneDB_complex__TGFBeta_receptor_add</th>\n",
       "      <th>CellPhoneDB_complex__growth factor receptor</th>\n",
       "      <th>CellPhoneDB_complex__hematopoyetic receptor</th>\n",
       "    </tr>\n",
       "  </thead>\n",
       "  <tbody>\n",
       "    <tr>\n",
       "      <th>A0A024RBG1</th>\n",
       "      <td>False</td>\n",
       "      <td>False</td>\n",
       "      <td>False</td>\n",
       "      <td>False</td>\n",
       "      <td>False</td>\n",
       "      <td>False</td>\n",
       "      <td>False</td>\n",
       "      <td>False</td>\n",
       "      <td>False</td>\n",
       "      <td>False</td>\n",
       "      <td>...</td>\n",
       "      <td>False</td>\n",
       "      <td>False</td>\n",
       "      <td>False</td>\n",
       "      <td>False</td>\n",
       "      <td>False</td>\n",
       "      <td>False</td>\n",
       "      <td>False</td>\n",
       "      <td>False</td>\n",
       "      <td>False</td>\n",
       "      <td>False</td>\n",
       "    </tr>\n",
       "    <tr>\n",
       "      <th>A0A075B6H9</th>\n",
       "      <td>False</td>\n",
       "      <td>False</td>\n",
       "      <td>False</td>\n",
       "      <td>False</td>\n",
       "      <td>False</td>\n",
       "      <td>False</td>\n",
       "      <td>False</td>\n",
       "      <td>False</td>\n",
       "      <td>False</td>\n",
       "      <td>False</td>\n",
       "      <td>...</td>\n",
       "      <td>False</td>\n",
       "      <td>False</td>\n",
       "      <td>False</td>\n",
       "      <td>False</td>\n",
       "      <td>False</td>\n",
       "      <td>False</td>\n",
       "      <td>False</td>\n",
       "      <td>False</td>\n",
       "      <td>False</td>\n",
       "      <td>False</td>\n",
       "    </tr>\n",
       "    <tr>\n",
       "      <th>A0A075B6I0</th>\n",
       "      <td>False</td>\n",
       "      <td>False</td>\n",
       "      <td>False</td>\n",
       "      <td>False</td>\n",
       "      <td>False</td>\n",
       "      <td>False</td>\n",
       "      <td>False</td>\n",
       "      <td>False</td>\n",
       "      <td>False</td>\n",
       "      <td>False</td>\n",
       "      <td>...</td>\n",
       "      <td>False</td>\n",
       "      <td>False</td>\n",
       "      <td>False</td>\n",
       "      <td>False</td>\n",
       "      <td>False</td>\n",
       "      <td>False</td>\n",
       "      <td>False</td>\n",
       "      <td>False</td>\n",
       "      <td>False</td>\n",
       "      <td>False</td>\n",
       "    </tr>\n",
       "    <tr>\n",
       "      <th>A0A075B6I1</th>\n",
       "      <td>False</td>\n",
       "      <td>False</td>\n",
       "      <td>False</td>\n",
       "      <td>False</td>\n",
       "      <td>False</td>\n",
       "      <td>False</td>\n",
       "      <td>False</td>\n",
       "      <td>False</td>\n",
       "      <td>False</td>\n",
       "      <td>False</td>\n",
       "      <td>...</td>\n",
       "      <td>False</td>\n",
       "      <td>False</td>\n",
       "      <td>False</td>\n",
       "      <td>False</td>\n",
       "      <td>False</td>\n",
       "      <td>False</td>\n",
       "      <td>False</td>\n",
       "      <td>False</td>\n",
       "      <td>False</td>\n",
       "      <td>False</td>\n",
       "    </tr>\n",
       "    <tr>\n",
       "      <th>A0A075B6I4</th>\n",
       "      <td>False</td>\n",
       "      <td>False</td>\n",
       "      <td>False</td>\n",
       "      <td>False</td>\n",
       "      <td>False</td>\n",
       "      <td>False</td>\n",
       "      <td>False</td>\n",
       "      <td>False</td>\n",
       "      <td>False</td>\n",
       "      <td>False</td>\n",
       "      <td>...</td>\n",
       "      <td>False</td>\n",
       "      <td>False</td>\n",
       "      <td>False</td>\n",
       "      <td>False</td>\n",
       "      <td>False</td>\n",
       "      <td>False</td>\n",
       "      <td>False</td>\n",
       "      <td>False</td>\n",
       "      <td>False</td>\n",
       "      <td>False</td>\n",
       "    </tr>\n",
       "    <tr>\n",
       "      <th>A0A075B6I9</th>\n",
       "      <td>False</td>\n",
       "      <td>False</td>\n",
       "      <td>False</td>\n",
       "      <td>False</td>\n",
       "      <td>False</td>\n",
       "      <td>False</td>\n",
       "      <td>False</td>\n",
       "      <td>False</td>\n",
       "      <td>False</td>\n",
       "      <td>False</td>\n",
       "      <td>...</td>\n",
       "      <td>False</td>\n",
       "      <td>False</td>\n",
       "      <td>False</td>\n",
       "      <td>False</td>\n",
       "      <td>False</td>\n",
       "      <td>False</td>\n",
       "      <td>False</td>\n",
       "      <td>False</td>\n",
       "      <td>False</td>\n",
       "      <td>False</td>\n",
       "    </tr>\n",
       "    <tr>\n",
       "      <th>A0A075B6J1</th>\n",
       "      <td>False</td>\n",
       "      <td>False</td>\n",
       "      <td>False</td>\n",
       "      <td>False</td>\n",
       "      <td>False</td>\n",
       "      <td>False</td>\n",
       "      <td>False</td>\n",
       "      <td>False</td>\n",
       "      <td>False</td>\n",
       "      <td>False</td>\n",
       "      <td>...</td>\n",
       "      <td>False</td>\n",
       "      <td>False</td>\n",
       "      <td>False</td>\n",
       "      <td>False</td>\n",
       "      <td>False</td>\n",
       "      <td>False</td>\n",
       "      <td>False</td>\n",
       "      <td>False</td>\n",
       "      <td>False</td>\n",
       "      <td>False</td>\n",
       "    </tr>\n",
       "    <tr>\n",
       "      <th>A0A075B6J6</th>\n",
       "      <td>False</td>\n",
       "      <td>False</td>\n",
       "      <td>False</td>\n",
       "      <td>False</td>\n",
       "      <td>False</td>\n",
       "      <td>False</td>\n",
       "      <td>False</td>\n",
       "      <td>False</td>\n",
       "      <td>False</td>\n",
       "      <td>False</td>\n",
       "      <td>...</td>\n",
       "      <td>False</td>\n",
       "      <td>False</td>\n",
       "      <td>False</td>\n",
       "      <td>False</td>\n",
       "      <td>False</td>\n",
       "      <td>False</td>\n",
       "      <td>False</td>\n",
       "      <td>False</td>\n",
       "      <td>False</td>\n",
       "      <td>False</td>\n",
       "    </tr>\n",
       "    <tr>\n",
       "      <th>A0A075B6J9</th>\n",
       "      <td>False</td>\n",
       "      <td>False</td>\n",
       "      <td>False</td>\n",
       "      <td>False</td>\n",
       "      <td>False</td>\n",
       "      <td>False</td>\n",
       "      <td>False</td>\n",
       "      <td>False</td>\n",
       "      <td>False</td>\n",
       "      <td>False</td>\n",
       "      <td>...</td>\n",
       "      <td>False</td>\n",
       "      <td>False</td>\n",
       "      <td>False</td>\n",
       "      <td>False</td>\n",
       "      <td>False</td>\n",
       "      <td>False</td>\n",
       "      <td>False</td>\n",
       "      <td>False</td>\n",
       "      <td>False</td>\n",
       "      <td>False</td>\n",
       "    </tr>\n",
       "    <tr>\n",
       "      <th>A0A075B6K0</th>\n",
       "      <td>False</td>\n",
       "      <td>False</td>\n",
       "      <td>False</td>\n",
       "      <td>False</td>\n",
       "      <td>False</td>\n",
       "      <td>False</td>\n",
       "      <td>False</td>\n",
       "      <td>False</td>\n",
       "      <td>False</td>\n",
       "      <td>False</td>\n",
       "      <td>...</td>\n",
       "      <td>False</td>\n",
       "      <td>False</td>\n",
       "      <td>False</td>\n",
       "      <td>False</td>\n",
       "      <td>False</td>\n",
       "      <td>False</td>\n",
       "      <td>False</td>\n",
       "      <td>False</td>\n",
       "      <td>False</td>\n",
       "      <td>False</td>\n",
       "    </tr>\n",
       "  </tbody>\n",
       "</table>\n",
       "<p>10 rows × 1597 columns</p>\n",
       "</div>"
      ],
      "text/plain": [
       "            SignaLink3  SignaLink3__  SignaLink3__BCR  SignaLink3__GPCR  \\\n",
       "A0A024RBG1       False         False            False             False   \n",
       "A0A075B6H9       False         False            False             False   \n",
       "A0A075B6I0       False         False            False             False   \n",
       "A0A075B6I1       False         False            False             False   \n",
       "A0A075B6I4       False         False            False             False   \n",
       "A0A075B6I9       False         False            False             False   \n",
       "A0A075B6J1       False         False            False             False   \n",
       "A0A075B6J6       False         False            False             False   \n",
       "A0A075B6J9       False         False            False             False   \n",
       "A0A075B6K0       False         False            False             False   \n",
       "\n",
       "            SignaLink3__HH  SignaLink3__HIPPO  SignaLink3__Hedgehog  \\\n",
       "A0A024RBG1           False              False                 False   \n",
       "A0A075B6H9           False              False                 False   \n",
       "A0A075B6I0           False              False                 False   \n",
       "A0A075B6I1           False              False                 False   \n",
       "A0A075B6I4           False              False                 False   \n",
       "A0A075B6I9           False              False                 False   \n",
       "A0A075B6J1           False              False                 False   \n",
       "A0A075B6J6           False              False                 False   \n",
       "A0A075B6J9           False              False                 False   \n",
       "A0A075B6K0           False              False                 False   \n",
       "\n",
       "            SignaLink3__Hippo  SignaLink3__IIP  SignaLink3__JAK/STAT  ...  \\\n",
       "A0A024RBG1              False            False                 False  ...   \n",
       "A0A075B6H9              False            False                 False  ...   \n",
       "A0A075B6I0              False            False                 False  ...   \n",
       "A0A075B6I1              False            False                 False  ...   \n",
       "A0A075B6I4              False            False                 False  ...   \n",
       "A0A075B6I9              False            False                 False  ...   \n",
       "A0A075B6J1              False            False                 False  ...   \n",
       "A0A075B6J6              False            False                 False  ...   \n",
       "A0A075B6J9              False            False                 False  ...   \n",
       "A0A075B6K0              False            False                 False  ...   \n",
       "\n",
       "            CellPhoneDB_complex__Cytokine receptor IL3 family  \\\n",
       "A0A024RBG1                                              False   \n",
       "A0A075B6H9                                              False   \n",
       "A0A075B6I0                                              False   \n",
       "A0A075B6I1                                              False   \n",
       "A0A075B6I4                                              False   \n",
       "A0A075B6I9                                              False   \n",
       "A0A075B6J1                                              False   \n",
       "A0A075B6J6                                              False   \n",
       "A0A075B6J9                                              False   \n",
       "A0A075B6K0                                              False   \n",
       "\n",
       "            CellPhoneDB_complex__Cytokine receptor IL6 family  \\\n",
       "A0A024RBG1                                              False   \n",
       "A0A075B6H9                                              False   \n",
       "A0A075B6I0                                              False   \n",
       "A0A075B6I1                                              False   \n",
       "A0A075B6I4                                              False   \n",
       "A0A075B6I9                                              False   \n",
       "A0A075B6J1                                              False   \n",
       "A0A075B6J6                                              False   \n",
       "A0A075B6J9                                              False   \n",
       "A0A075B6K0                                              False   \n",
       "\n",
       "            CellPhoneDB_complex__Cytokine receptor IL6 family, IL12 subfamily  \\\n",
       "A0A024RBG1                                              False                   \n",
       "A0A075B6H9                                              False                   \n",
       "A0A075B6I0                                              False                   \n",
       "A0A075B6I1                                              False                   \n",
       "A0A075B6I4                                              False                   \n",
       "A0A075B6I9                                              False                   \n",
       "A0A075B6J1                                              False                   \n",
       "A0A075B6J6                                              False                   \n",
       "A0A075B6J9                                              False                   \n",
       "A0A075B6K0                                              False                   \n",
       "\n",
       "            CellPhoneDB_complex__Cytokine receptor family  \\\n",
       "A0A024RBG1                                          False   \n",
       "A0A075B6H9                                          False   \n",
       "A0A075B6I0                                          False   \n",
       "A0A075B6I1                                          False   \n",
       "A0A075B6I4                                          False   \n",
       "A0A075B6I9                                          False   \n",
       "A0A075B6J1                                          False   \n",
       "A0A075B6J6                                          False   \n",
       "A0A075B6J9                                          False   \n",
       "A0A075B6K0                                          False   \n",
       "\n",
       "            CellPhoneDB_complex__Human IgG receptor  \\\n",
       "A0A024RBG1                                    False   \n",
       "A0A075B6H9                                    False   \n",
       "A0A075B6I0                                    False   \n",
       "A0A075B6I1                                    False   \n",
       "A0A075B6I4                                    False   \n",
       "A0A075B6I9                                    False   \n",
       "A0A075B6J1                                    False   \n",
       "A0A075B6J6                                    False   \n",
       "A0A075B6J9                                    False   \n",
       "A0A075B6K0                                    False   \n",
       "\n",
       "            CellPhoneDB_complex__Receptor  \\\n",
       "A0A024RBG1                          False   \n",
       "A0A075B6H9                          False   \n",
       "A0A075B6I0                          False   \n",
       "A0A075B6I1                          False   \n",
       "A0A075B6I4                          False   \n",
       "A0A075B6I9                          False   \n",
       "A0A075B6J1                          False   \n",
       "A0A075B6J6                          False   \n",
       "A0A075B6J9                          False   \n",
       "A0A075B6K0                          False   \n",
       "\n",
       "            CellPhoneDB_complex__T cell receptor add  \\\n",
       "A0A024RBG1                                     False   \n",
       "A0A075B6H9                                     False   \n",
       "A0A075B6I0                                     False   \n",
       "A0A075B6I1                                     False   \n",
       "A0A075B6I4                                     False   \n",
       "A0A075B6I9                                     False   \n",
       "A0A075B6J1                                     False   \n",
       "A0A075B6J6                                     False   \n",
       "A0A075B6J9                                     False   \n",
       "A0A075B6K0                                     False   \n",
       "\n",
       "            CellPhoneDB_complex__TGFBeta_receptor_add  \\\n",
       "A0A024RBG1                                      False   \n",
       "A0A075B6H9                                      False   \n",
       "A0A075B6I0                                      False   \n",
       "A0A075B6I1                                      False   \n",
       "A0A075B6I4                                      False   \n",
       "A0A075B6I9                                      False   \n",
       "A0A075B6J1                                      False   \n",
       "A0A075B6J6                                      False   \n",
       "A0A075B6J9                                      False   \n",
       "A0A075B6K0                                      False   \n",
       "\n",
       "            CellPhoneDB_complex__growth factor receptor  \\\n",
       "A0A024RBG1                                        False   \n",
       "A0A075B6H9                                        False   \n",
       "A0A075B6I0                                        False   \n",
       "A0A075B6I1                                        False   \n",
       "A0A075B6I4                                        False   \n",
       "A0A075B6I9                                        False   \n",
       "A0A075B6J1                                        False   \n",
       "A0A075B6J6                                        False   \n",
       "A0A075B6J9                                        False   \n",
       "A0A075B6K0                                        False   \n",
       "\n",
       "            CellPhoneDB_complex__hematopoyetic receptor  \n",
       "A0A024RBG1                                        False  \n",
       "A0A075B6H9                                        False  \n",
       "A0A075B6I0                                        False  \n",
       "A0A075B6I1                                        False  \n",
       "A0A075B6I4                                        False  \n",
       "A0A075B6I9                                        False  \n",
       "A0A075B6J1                                        False  \n",
       "A0A075B6J6                                        False  \n",
       "A0A075B6J9                                        False  \n",
       "A0A075B6K0                                        False  \n",
       "\n",
       "[10 rows x 1597 columns]"
      ]
     },
     "execution_count": 32,
     "metadata": {},
     "output_type": "execute_result"
    }
   ],
   "source": [
    "pathways.df[:10]"
   ]
  },
  {
   "cell_type": "markdown",
   "metadata": {},
   "source": [
    "The `AnnotationTable` object contains the resource specific annotation objects:"
   ]
  },
  {
   "cell_type": "code",
   "execution_count": 33,
   "metadata": {},
   "outputs": [
    {
     "data": {
      "text/plain": [
       "{'CPAD': <pypath.annot.Cpad at 0x68fbbbff5dd0>,\n",
       " 'DisGeNet': <pypath.annot.Disgenet at 0x68fb8e004a10>,\n",
       " 'SignaLink3': <pypath.annot.SignalinkPathways at 0x68fb8e8975d0>,\n",
       " 'CancerGeneCensus': <pypath.annot.CancerGeneCensus at 0x68fb9b855810>,\n",
       " 'Matrisome': <pypath.annot.Matrisome at 0x68fb8e853310>,\n",
       " 'KEGG': <pypath.annot.KeggPathways at 0x68fb9c004fd0>,\n",
       " 'Integrins': <pypath.annot.Integrins at 0x68fb9a2903d0>,\n",
       " 'Ramilowski_location': <pypath.annot.Ramilowski2015Location at 0x68fb9a4e6110>,\n",
       " 'Signor': <pypath.annot.SignorPathways at 0x68fb92faf690>,\n",
       " 'CancerSEA': <pypath.annot.Cancersea at 0x68fb91f236d0>,\n",
       " 'CSPA': <pypath.annot.CellSurfaceProteinAtlas at 0x68fbadcf5790>,\n",
       " 'Membranome': <pypath.annot.Membranome at 0x68fbb8013d10>,\n",
       " 'Guide2Pharma': <pypath.annot.GuideToPharmacology at 0x68fba9a143d0>,\n",
       " 'OPM': <pypath.annot.Opm at 0x68fb92f40cd0>,\n",
       " 'Kirouac2010': <pypath.annot.Kirouac2010 at 0x68fbada4c990>,\n",
       " 'Zhong2015': <pypath.annot.Zhong2015 at 0x68fbcb89c050>,\n",
       " 'HPA': <pypath.annot.HumanProteinAtlas at 0x68fbaded3810>,\n",
       " 'TopDB': <pypath.annot.Topdb at 0x68fbae51e1d0>,\n",
       " 'Kinases': <pypath.annot.Kinases at 0x68fbc97a8b90>,\n",
       " 'TFcensus': <pypath.annot.Tfcensus at 0x68fbc2262190>,\n",
       " 'Adhesome': <pypath.annot.Adhesome at 0x68fbc8506f10>,\n",
       " 'Ramilowski2015': <pypath.annot.Ramilowski2015 at 0x68fbc227ad90>,\n",
       " 'Phosphatome': <pypath.annot.Phosphatome at 0x68fbc21cbad0>,\n",
       " 'Vesiclepedia': <pypath.annot.Vesiclepedia at 0x68fb8e22aad0>,\n",
       " 'NetPath': <pypath.annot.NetpathPathways at 0x68fb9bec5750>,\n",
       " 'HGNC': <pypath.annot.Hgnc at 0x68fb96c93d50>,\n",
       " 'HPMR': <pypath.annot.HumanPlasmaMembraneReceptome at 0x68fbe932b490>,\n",
       " 'DGIdb': <pypath.annot.Dgidb at 0x68fbc2fc3150>,\n",
       " 'Exocarta': <pypath.annot.Exocarta at 0x68fbc26a8150>,\n",
       " 'CellPhoneDB': <pypath.annot.CellPhoneDB at 0x68fbc26a87d0>,\n",
       " 'Locate': <pypath.annot.Locate at 0x68fb9fff2e90>,\n",
       " 'Surfaceome': <pypath.annot.Surfaceome at 0x68fb9b13b110>,\n",
       " 'MatrixDB': <pypath.annot.Matrixdb at 0x68fba4fa0e10>,\n",
       " 'GO_Intercell': <pypath.annot.GOIntercell at 0x68fba55ae3d0>,\n",
       " 'HPMR_complex': <pypath.annot.HpmrComplex at 0x68fbc26f35d0>,\n",
       " 'CORUM_Funcat': <pypath.annot.CorumFuncat at 0x68fb95d2a1d0>,\n",
       " 'CORUM_GO': <pypath.annot.CorumGO at 0x68fbc832add0>,\n",
       " 'CellPhoneDB_complex': <pypath.annot.CellPhoneDBComplex at 0x68fbc832edd0>}"
      ]
     },
     "execution_count": 33,
     "metadata": {},
     "output_type": "execute_result"
    }
   ],
   "source": [
    "a.annots"
   ]
  },
  {
   "cell_type": "markdown",
   "metadata": {},
   "source": [
    "For each of these you can query the names of the fields, their possible values and the set of proteins annotated with any combination of the values:"
   ]
  },
  {
   "cell_type": "code",
   "execution_count": 34,
   "metadata": {},
   "outputs": [],
   "source": [
    "matrisome = a.annots['Matrisome']"
   ]
  },
  {
   "cell_type": "code",
   "execution_count": 35,
   "metadata": {},
   "outputs": [
    {
     "data": {
      "text/plain": [
       "('mainclass', 'subclass', 'subsubclass')"
      ]
     },
     "execution_count": 35,
     "metadata": {},
     "output_type": "execute_result"
    }
   ],
   "source": [
    "matrisome.get_names()"
   ]
  },
  {
   "cell_type": "code",
   "execution_count": 36,
   "metadata": {},
   "outputs": [
    {
     "data": {
      "text/plain": [
       "{'Collagens',\n",
       " 'ECM Glycoproteins',\n",
       " 'ECM Regulators',\n",
       " 'ECM-affiliated Proteins',\n",
       " 'Proteoglycans',\n",
       " 'Secreted Factors',\n",
       " 'n/a'}"
      ]
     },
     "execution_count": 36,
     "metadata": {},
     "output_type": "execute_result"
    }
   ],
   "source": [
    "matrisome.get_values('subclass')"
   ]
  },
  {
   "cell_type": "code",
   "execution_count": 37,
   "metadata": {},
   "outputs": [
    {
     "data": {
      "text/plain": [
       "{'A2A2Y8',\n",
       " 'A2A352',\n",
       " 'A2AAS7',\n",
       " 'A6NCT7',\n",
       " 'A6NDR9',\n",
       " 'A6NEQ6',\n",
       " 'A6NMZ7',\n",
       " 'A6PVD9',\n",
       " 'A8MWQ5',\n",
       " 'A8MXH5',\n",
       " 'A8TX70',\n",
       " 'B1AKJ1',\n",
       " 'B1AKJ3',\n",
       " 'B4DZ39',\n",
       " 'B7ZBI4',\n",
       " 'B7ZBI5',\n",
       " 'C9JBL3',\n",
       " 'C9JH44',\n",
       " 'C9JMN2',\n",
       " 'C9JNG9',\n",
       " 'C9JPW4',\n",
       " 'C9JTN9',\n",
       " Complex Collagen type I homotrimer: COMPLEX:P02452,\n",
       " Complex HT_DM_Cluster278: COMPLEX:P02452-P02462-P08572-P29400-P53420-Q01955-Q02388-Q14031-Q17RW2-Q8NFW1,\n",
       " Complex Collagen type I trimer: COMPLEX:P02452-P08123,\n",
       " Complex Collagen type II trimer: COMPLEX:P02458,\n",
       " Complex Collagen type XI trimer variant 1: COMPLEX:P02458-P12107-P13942,\n",
       " Complex: COMPLEX:P02458-P20908-P25067-P29400,\n",
       " Complex: COMPLEX:P02458-P25067-P29400,\n",
       " Complex Collagen type III trimer: COMPLEX:P02461,\n",
       " Complex: COMPLEX:P02462,\n",
       " Complex Collagen type IV trimer variant 1: COMPLEX:P02462-P08572,\n",
       " Complex Collagen type XI trimer variant 2: COMPLEX:P05997-P12107,\n",
       " Complex Collagen type XI trimer variant 3: COMPLEX:P05997-P12107-P20908,\n",
       " Complex Collagen type V trimer variant 1: COMPLEX:P05997-P20908,\n",
       " Complex Collagen type V trimer variant 2: COMPLEX:P05997-P20908-P25940,\n",
       " Complex: COMPLEX:P08572,\n",
       " Complex: COMPLEX:P12109-P12110,\n",
       " Complex Collagen type VI trimer: COMPLEX:P12109-P12110-P12111,\n",
       " Complex Collagen type IX trimer: COMPLEX:P20849-Q14050-Q14055,\n",
       " Complex Collagen type V trimer variant 3: COMPLEX:P20908,\n",
       " Complex: COMPLEX:P20908-P25067,\n",
       " Complex Collagen type VIII trimer variant 3: COMPLEX:P25067,\n",
       " Complex Collagen type VIII trimer variant 1: COMPLEX:P25067-P27658,\n",
       " Complex: COMPLEX:P25067-P29400,\n",
       " Complex Collagen type VIII trimer variant 2: COMPLEX:P27658,\n",
       " Complex Collagen type IV trimer variant 3: COMPLEX:P29400-P53420-Q01955,\n",
       " Complex Collagen type IV trimer variant 2: COMPLEX:P29400-Q14031,\n",
       " Complex Collagen type XV trimer: COMPLEX:P39059,\n",
       " Complex Collagen type XVIII trimer: COMPLEX:P39060,\n",
       " Complex: COMPLEX:P53420,\n",
       " Complex: COMPLEX:Q01955,\n",
       " Complex Collagen type VII trimer: COMPLEX:Q02388,\n",
       " Complex Collagen type X trimer: COMPLEX:Q03692,\n",
       " Complex Collagen type XIV trimer: COMPLEX:Q05707,\n",
       " Complex Collagen type XVI trimer: COMPLEX:Q07092,\n",
       " Complex Collagen type XIX trimer: COMPLEX:Q14993,\n",
       " Complex Collagen type XXIV trimer: COMPLEX:Q17RW2,\n",
       " Complex Collagen type XXVIII trimer: COMPLEX:Q2UY09,\n",
       " Complex Collagen type XIII trimer: COMPLEX:Q5TAT6,\n",
       " Complex Collagen type XXIII trimer: COMPLEX:Q86Y22,\n",
       " Complex Collagen type XXVII trimer: COMPLEX:Q8IZC6,\n",
       " Complex Collagen type XXII trimer: COMPLEX:Q8NFW1,\n",
       " Complex Collagen type XXVI trimer: COMPLEX:Q96A83,\n",
       " Complex Collagen type XXI trimer: COMPLEX:Q96P44,\n",
       " Complex Collagen type XII trimer: COMPLEX:Q99715,\n",
       " Complex Collagen type XXV trimer, variant 2: COMPLEX:Q9BXS0,\n",
       " Complex Collagen type XX trimer: COMPLEX:Q9P218,\n",
       " Complex Collagen type XVII trimer: COMPLEX:Q9UMD9,\n",
       " 'D6R8Y2',\n",
       " 'D6RGG3',\n",
       " 'E7ENL6',\n",
       " 'E7ENY8',\n",
       " 'E7ES46',\n",
       " 'E7ES47',\n",
       " 'E7ES49',\n",
       " 'E7ES50',\n",
       " 'E7ES51',\n",
       " 'E7ES55',\n",
       " 'E7ES56',\n",
       " 'E7EX21',\n",
       " 'E9PAL5',\n",
       " 'E9PCV6',\n",
       " 'E9PEG9',\n",
       " 'E9PNK8',\n",
       " 'E9PNV9',\n",
       " 'E9PP49',\n",
       " 'F5GZK2',\n",
       " 'F5H3Q5',\n",
       " 'F5H5K0',\n",
       " 'F5H851',\n",
       " 'F8W6Y7',\n",
       " 'F8W8G8',\n",
       " 'F8WDM8',\n",
       " 'G5E987',\n",
       " 'H0Y393',\n",
       " 'H0Y3B3',\n",
       " 'H0Y3B5',\n",
       " 'H0Y3M9',\n",
       " 'H0Y409',\n",
       " 'H0Y420',\n",
       " 'H0Y4C9',\n",
       " 'H0Y4P7',\n",
       " 'H0Y5N9',\n",
       " 'H0Y935',\n",
       " 'H0Y940',\n",
       " 'H0Y991',\n",
       " 'H0Y998',\n",
       " 'H0Y9H0',\n",
       " 'H0Y9R8',\n",
       " 'H0Y9T2',\n",
       " 'H0YA33',\n",
       " 'H0YAE1',\n",
       " 'H0YAX7',\n",
       " 'H0YBB2',\n",
       " 'H0YCZ7',\n",
       " 'H0YD40',\n",
       " 'H0YDH6',\n",
       " 'H0YHM5',\n",
       " 'H0YHM9',\n",
       " 'H0YIS1',\n",
       " 'H7BXM4',\n",
       " 'H7BXV5',\n",
       " 'H7BY82',\n",
       " 'H7BY97',\n",
       " 'H7BYT9',\n",
       " 'H7BZB6',\n",
       " 'H7BZL8',\n",
       " 'H7BZU0',\n",
       " 'H7C0M5',\n",
       " 'H7C381',\n",
       " 'H7C3F0',\n",
       " 'H7C3P2',\n",
       " 'H7C435',\n",
       " 'H7C457',\n",
       " 'I3L392',\n",
       " 'I3L3H7',\n",
       " 'J3KNM7',\n",
       " 'J3QT75',\n",
       " 'J3QT83',\n",
       " 'P02452',\n",
       " 'P02458',\n",
       " 'P02461',\n",
       " 'P02462',\n",
       " 'P05997',\n",
       " 'P08123',\n",
       " 'P08572',\n",
       " 'P12107',\n",
       " 'P12109',\n",
       " 'P12110',\n",
       " 'P12111',\n",
       " 'P13942',\n",
       " 'P20849',\n",
       " 'P20908',\n",
       " 'P25067',\n",
       " 'P25940',\n",
       " 'P27658',\n",
       " 'P29400',\n",
       " 'P39059',\n",
       " 'P39060',\n",
       " 'P53420',\n",
       " 'Q01955',\n",
       " 'Q02388',\n",
       " 'Q03692',\n",
       " 'Q05707',\n",
       " 'Q07092',\n",
       " 'Q14031',\n",
       " 'Q14050',\n",
       " 'Q14055',\n",
       " 'Q14993',\n",
       " 'Q17RW2',\n",
       " 'Q2UY09',\n",
       " 'Q4G0W3',\n",
       " 'Q4VXW1',\n",
       " 'Q4VXY6',\n",
       " 'Q5JVU1',\n",
       " 'Q5QPC7',\n",
       " 'Q5QPC8',\n",
       " 'Q5T1U7',\n",
       " 'Q5TAT6',\n",
       " 'Q86Y22',\n",
       " 'Q8IZC6',\n",
       " 'Q8NFW1',\n",
       " 'Q96A83',\n",
       " 'Q96P44',\n",
       " 'Q99715',\n",
       " 'Q9BXS0',\n",
       " 'Q9P218',\n",
       " 'Q9UMD9'}"
      ]
     },
     "execution_count": 37,
     "metadata": {},
     "output_type": "execute_result"
    }
   ],
   "source": [
    "matrisome.get_subset(subclass = 'Collagens')"
   ]
  },
  {
   "cell_type": "markdown",
   "metadata": {},
   "source": [
    "## 15: Gene Ontology <a class=\"anchor\" id=\"gene-ontology\"></a>"
   ]
  },
  {
   "cell_type": "markdown",
   "metadata": {},
   "source": [
    "`pypath.go` is an almost standalone module for management of the Gene Ontology tree and annotations. The main objects here are `GeneOntology` and `GOAnnotation`. The former represents the ontology tree, i.e. terms and their relationships, the latter their assignment to gene products. Both provides many versatile methods for querying."
   ]
  },
  {
   "cell_type": "code",
   "execution_count": 38,
   "metadata": {},
   "outputs": [],
   "source": [
    "from pypath import go\n",
    "goa = go.GOAnnotation()"
   ]
  },
  {
   "cell_type": "code",
   "execution_count": 39,
   "metadata": {},
   "outputs": [
    {
     "data": {
      "text/plain": [
       "<pypath.go.GeneOntology at 0x68fb7b2ef610>"
      ]
     },
     "execution_count": 39,
     "metadata": {},
     "output_type": "execute_result"
    }
   ],
   "source": [
    "goa.ontology # the GeneOntology object"
   ]
  },
  {
   "cell_type": "code",
   "execution_count": 40,
   "metadata": {},
   "outputs": [
    {
     "data": {
      "text/plain": [
       "<pypath.go.GOAnnotation at 0x68fb7b2ef250>"
      ]
     },
     "execution_count": 40,
     "metadata": {},
     "output_type": "execute_result"
    }
   ],
   "source": [
    "goa # the GOAnnotation object"
   ]
  },
  {
   "cell_type": "markdown",
   "metadata": {},
   "source": [
    "Among many others, the most versatile method is `select` which is able to select the annotated gene products by various expressions built from GO terms or IDs. It understands `AND`, `OR`, `NOT` and parentheses."
   ]
  },
  {
   "cell_type": "code",
   "execution_count": 41,
   "metadata": {},
   "outputs": [
    {
     "name": "stdout",
     "output_type": "stream",
     "text": [
      "['P63244', 'Q07699', 'P46934', 'P62258', 'Q16651', 'P57796', 'Q9ULB1']\n"
     ]
    }
   ],
   "source": [
    "query = \"\"\"(cell surface OR\n",
    "        external side of plasma membrane OR\n",
    "        extracellular region) AND\n",
    "        (regulation of transmembrane transporter activity OR\n",
    "        channel regulator activity)\"\"\"\n",
    "result = goa.select(query)\n",
    "print(list(result)[:7])"
   ]
  },
  {
   "cell_type": "code",
   "execution_count": 42,
   "metadata": {},
   "outputs": [
    {
     "data": {
      "text/plain": [
       "{'GO:0001507',\n",
       " 'GO:0001527',\n",
       " 'GO:0003351',\n",
       " 'GO:0003355',\n",
       " 'GO:0005201',\n",
       " 'GO:0005576',\n",
       " 'GO:0005577',\n",
       " 'GO:0005582',\n",
       " 'GO:0005583',\n",
       " 'GO:0005584',\n",
       " 'GO:0005585',\n",
       " 'GO:0005586',\n",
       " 'GO:0005587',\n",
       " 'GO:0005588',\n",
       " 'GO:0005590',\n",
       " 'GO:0005591',\n",
       " 'GO:0005592',\n",
       " 'GO:0005595',\n",
       " 'GO:0005596',\n",
       " 'GO:0005599',\n",
       " 'GO:0005601',\n",
       " 'GO:0005602',\n",
       " 'GO:0005604',\n",
       " 'GO:0005606',\n",
       " 'GO:0005607',\n",
       " 'GO:0005608',\n",
       " 'GO:0005609',\n",
       " 'GO:0005610',\n",
       " 'GO:0005611',\n",
       " 'GO:0005612',\n",
       " 'GO:0005614',\n",
       " 'GO:0005615',\n",
       " 'GO:0005616',\n",
       " 'GO:0006858',\n",
       " 'GO:0006859',\n",
       " 'GO:0006860',\n",
       " 'GO:0009519',\n",
       " 'GO:0010367',\n",
       " 'GO:0016914',\n",
       " 'GO:0016942',\n",
       " 'GO:0020003',\n",
       " 'GO:0020004',\n",
       " 'GO:0020005',\n",
       " 'GO:0020006',\n",
       " 'GO:0030020',\n",
       " 'GO:0030021',\n",
       " 'GO:0030023',\n",
       " 'GO:0030197',\n",
       " 'GO:0030345',\n",
       " 'GO:0030934',\n",
       " 'GO:0030935',\n",
       " 'GO:0030938',\n",
       " 'GO:0031012',\n",
       " 'GO:0031395',\n",
       " 'GO:0032311',\n",
       " 'GO:0032579',\n",
       " 'GO:0033165',\n",
       " 'GO:0033166',\n",
       " 'GO:0034358',\n",
       " 'GO:0034359',\n",
       " 'GO:0034360',\n",
       " 'GO:0034361',\n",
       " 'GO:0034362',\n",
       " 'GO:0034363',\n",
       " 'GO:0034364',\n",
       " 'GO:0034365',\n",
       " 'GO:0034366',\n",
       " 'GO:0034385',\n",
       " 'GO:0035182',\n",
       " 'GO:0035183',\n",
       " 'GO:0035323',\n",
       " 'GO:0035324',\n",
       " 'GO:0035581',\n",
       " 'GO:0035582',\n",
       " 'GO:0035583',\n",
       " 'GO:0036117',\n",
       " 'GO:0038098',\n",
       " 'GO:0038101',\n",
       " 'GO:0038105',\n",
       " 'GO:0042567',\n",
       " 'GO:0042568',\n",
       " 'GO:0042571',\n",
       " 'GO:0042627',\n",
       " 'GO:0043083',\n",
       " 'GO:0043230',\n",
       " 'GO:0043245',\n",
       " 'GO:0043256',\n",
       " 'GO:0043257',\n",
       " 'GO:0043258',\n",
       " 'GO:0043259',\n",
       " 'GO:0043260',\n",
       " 'GO:0043261',\n",
       " 'GO:0043263',\n",
       " 'GO:0043264',\n",
       " 'GO:0043509',\n",
       " 'GO:0043510',\n",
       " 'GO:0043511',\n",
       " 'GO:0043512',\n",
       " 'GO:0043513',\n",
       " 'GO:0043514',\n",
       " 'GO:0043655',\n",
       " 'GO:0044420',\n",
       " 'GO:0044421',\n",
       " 'GO:0045171',\n",
       " 'GO:0045172',\n",
       " 'GO:0048046',\n",
       " 'GO:0048180',\n",
       " 'GO:0048183',\n",
       " 'GO:0055039',\n",
       " 'GO:0060102',\n",
       " 'GO:0060103',\n",
       " 'GO:0060104',\n",
       " 'GO:0060105',\n",
       " 'GO:0060106',\n",
       " 'GO:0060107',\n",
       " 'GO:0060108',\n",
       " 'GO:0060109',\n",
       " 'GO:0060110',\n",
       " 'GO:0060111',\n",
       " 'GO:0060287',\n",
       " 'GO:0061696',\n",
       " 'GO:0061701',\n",
       " 'GO:0061800',\n",
       " 'GO:0061801',\n",
       " 'GO:0062023',\n",
       " 'GO:0062039',\n",
       " 'GO:0062040',\n",
       " 'GO:0065010',\n",
       " 'GO:0070062',\n",
       " 'GO:0070289',\n",
       " 'GO:0070505',\n",
       " 'GO:0070645',\n",
       " 'GO:0070701',\n",
       " 'GO:0070702',\n",
       " 'GO:0070703',\n",
       " 'GO:0070743',\n",
       " 'GO:0070744',\n",
       " 'GO:0070745',\n",
       " 'GO:0071736',\n",
       " 'GO:0071739',\n",
       " 'GO:0071743',\n",
       " 'GO:0071746',\n",
       " 'GO:0071748',\n",
       " 'GO:0071749',\n",
       " 'GO:0071750',\n",
       " 'GO:0071751',\n",
       " 'GO:0071752',\n",
       " 'GO:0071754',\n",
       " 'GO:0071756',\n",
       " 'GO:0071757',\n",
       " 'GO:0071914',\n",
       " 'GO:0071953',\n",
       " 'GO:0072534',\n",
       " 'GO:0072562',\n",
       " 'GO:0072563',\n",
       " 'GO:0085026',\n",
       " 'GO:0085036',\n",
       " 'GO:0085040',\n",
       " 'GO:0090658',\n",
       " 'GO:0090660',\n",
       " 'GO:0090733',\n",
       " 'GO:0097058',\n",
       " 'GO:0097059',\n",
       " 'GO:0097189',\n",
       " 'GO:0097311',\n",
       " 'GO:0097312',\n",
       " 'GO:0097313',\n",
       " 'GO:0097579',\n",
       " 'GO:0097619',\n",
       " 'GO:0097691',\n",
       " 'GO:0098549',\n",
       " 'GO:0098595',\n",
       " 'GO:0098642',\n",
       " 'GO:0098643',\n",
       " 'GO:0098644',\n",
       " 'GO:0098645',\n",
       " 'GO:0098646',\n",
       " 'GO:0098648',\n",
       " 'GO:0098651',\n",
       " 'GO:0098652',\n",
       " 'GO:0098774',\n",
       " 'GO:0098875',\n",
       " 'GO:0098965',\n",
       " 'GO:0098966',\n",
       " 'GO:0099126',\n",
       " 'GO:0099535',\n",
       " 'GO:0099544',\n",
       " 'GO:0120197',\n",
       " 'GO:0150043',\n",
       " 'GO:1900115',\n",
       " 'GO:1900116',\n",
       " 'GO:1903561',\n",
       " 'GO:1990318',\n",
       " 'GO:1990323',\n",
       " 'GO:1990324',\n",
       " 'GO:1990325',\n",
       " 'GO:1990326',\n",
       " 'GO:1990338',\n",
       " 'GO:1990339',\n",
       " 'GO:1990340',\n",
       " 'GO:1990341',\n",
       " 'GO:1990377',\n",
       " 'GO:1990562',\n",
       " 'GO:1990563',\n",
       " 'GO:1990742',\n",
       " 'GO:1990971',\n",
       " 'GO:1990972'}"
      ]
     },
     "execution_count": 42,
     "metadata": {},
     "output_type": "execute_result"
    }
   ],
   "source": [
    "goa.ontology.get_all_descendants('GO:0005576')"
   ]
  },
  {
   "cell_type": "markdown",
   "metadata": {},
   "source": [
    "## 16: Protein complexes <a class=\"anchor\" id=\"complexes\"></a>"
   ]
  },
  {
   "cell_type": "markdown",
   "metadata": {},
   "source": [
    "The `pypath.complex` module builds a non-redundant list of complexes from 10 original resources. Complexes are unique considering their set of components, and optionally carry stoichiometry information."
   ]
  },
  {
   "cell_type": "code",
   "execution_count": 3,
   "metadata": {},
   "outputs": [
    {
     "name": "stdout",
     "output_type": "stream",
     "text": [
      "\n",
      "\t=== d i s c l a i m e r ===\n",
      "\n",
      "\tAll data accessed through this module,\n",
      "\teither as redistributed copy or downloaded using the\n",
      "\tprogrammatic interfaces included in the present module,\n",
      "\tare free to use at least for academic research or\n",
      "\teducation purposes.\n",
      "\tPlease be aware of the licenses of all the datasets\n",
      "\tyou use in your analysis, and please give appropriate\n",
      "\tcredits for the original sources when you publish your\n",
      "\tresults. To find out more about data sources please\n",
      "\tlook at `pypath.descriptions` or\n",
      "\thttp://omnipathdb.org/info and \n",
      "\t`pypath.data_formats.urls`.\n",
      "\n",
      "[2019-08-30 16:36:40] [pypath] \n",
      "\t- session ID: `hca38`\n",
      "\t- working directory: `/home/denes/Dokumentumok/norwich2019`\n",
      "\t- logfile: `/home/denes/Dokumentumok/norwich2019/pypath_log/pypath-hca38.log`\n",
      "\t- pypath version: 0.8.30\n",
      "\n"
     ]
    }
   ],
   "source": [
    "from pypath import complex\n",
    "complexdb = complex.get_db()"
   ]
  },
  {
   "cell_type": "code",
   "execution_count": 4,
   "metadata": {},
   "outputs": [
    {
     "data": {
      "text/plain": [
       "<pypath.complex.ComplexAggregator at 0x61b5bb1d2610>"
      ]
     },
     "execution_count": 4,
     "metadata": {},
     "output_type": "execute_result"
    }
   ],
   "source": [
    "complexdb"
   ]
  },
  {
   "cell_type": "markdown",
   "metadata": {},
   "source": [
    "To retrieve all complexes containing a specific protein, here MTOR:"
   ]
  },
  {
   "cell_type": "code",
   "execution_count": 5,
   "metadata": {},
   "outputs": [
    {
     "data": {
      "text/plain": [
       "{Complex: COMPLEX:O00141-O15530-O75879-P23443-P34931-P42345-Q6R327-Q8N122-Q9BPZ7-Q9BVC4-Q9H672,\n",
       " Complex: COMPLEX:O00141-O15530-P07900-P23443-P31749-P31751-P42345-P78527-Q05513-Q05655-Q6R327-Q8N122-Q9BPZ7-Q9BVC4,\n",
       " Complex: COMPLEX:O00141-O15530-P0CG47-P0CG48-P23443-P42345-Q15118-Q6R327-Q8N122-Q96BR1-Q9BPZ7-Q9BVC4,\n",
       " Complex: COMPLEX:O00141-O15530-P23443-P42345-Q15118-Q6R327-Q8N122-Q96BR1-Q96J02-Q9BPZ7-Q9BVC4,\n",
       " Complex: COMPLEX:O00141-O75879-P0CG48-P23443-P34931-P42345-P62753-Q6R327-Q8N122-Q9BPZ7-Q9BVC4-Q9NY26,\n",
       " Complex: COMPLEX:O00141-P0CG48-P23443-P36894-P42345-P62942-P68106-Q15427-Q6R327-Q8N122-Q9BPZ7-Q9BVC4,\n",
       " Complex: COMPLEX:O00141-P0CG48-P23443-P42345-P46781-P62753-Q6R327-Q8N122-Q96KQ7-Q9BPZ7-Q9BVC4-Q9NY26,\n",
       " Complex: COMPLEX:O00141-P0CG48-P23443-P42345-P62753-P62942-Q6R327-Q8N122-Q9BPZ7-Q9BVC4-Q9NY26,\n",
       " Complex: COMPLEX:O00141-P0CG48-P23443-P42345-P62753-Q15172-Q6R327-Q8IW41-Q9BPZ7-Q9BVC4-Q9H672,\n",
       " Complex: COMPLEX:O00141-P0CG48-P23443-P42345-P62753-Q6R327-Q70Z35-Q8N122-Q8TCU6-Q9BPZ7-Q9BVC4-Q9NY26,\n",
       " Complex: COMPLEX:O00141-P0CG48-P23443-P42345-Q13393-Q15382-Q6R327-Q8N122-Q9BPZ7-Q9BVC4-Q9NY26,\n",
       " Complex: COMPLEX:O00141-P0CG48-P23443-P42345-Q5VT52-Q6R327-Q8N122-Q9BPZ7-Q9BVC4-Q9NY26-Q9UBS3,\n",
       " Complex: COMPLEX:O00141-P23443-P42345-Q6R327-Q7L523-Q8N122-Q9BPZ7-Q9BVC4-Q9HB90-Q9NY26,\n",
       " Complex: COMPLEX:O00303-O15371-O15372-O75821-P06730-P23443-P42345-P55884-Q13542-Q6R327-Q7L2H7-Q8N122-Q9BVC4-Q9UBQ5-Q9Y262,\n",
       " Complex: COMPLEX:O00303-O15372-O75821-P23443-P42345-P55884-P62753-Q6R327-Q7L2H7-Q8N122-Q9BVC4-Q9UBQ5-Q9Y262,\n",
       " Complex phosphatidylinositol 3-kinase complex: COMPLEX:O00329-O00443-O00459-O00750-O75747-P42336-P42338-P42345-P48736-Q8NEB9-Q8WYR1-Q92569,\n",
       " Complex: COMPLEX:O15350-O43156-O95619-P04637-P42345-Q71UI9-Q92993-Q9H0E9-Q9NPF5-Q9UBU8-Q9Y230-Q9Y265-Q9Y4A5,\n",
       " Complex Yy1-Ppargc1a-Frap1 complex: COMPLEX:O15391-P25490-P42345-Q9UBK2,\n",
       " Complex: COMPLEX:O15530-O95782-P07900-P23443-P31749-P31751-P42345-P78527-Q04759-Q05513-Q05655-Q9Y243,\n",
       " Complex: COMPLEX:O15530-P06730-P23443-P42345-Q13542-Q6R327-Q8N122-Q9BVC4-Q9UBS0,\n",
       " Complex: COMPLEX:O15530-P06730-P23443-P42345-Q13542-Q6R327-Q8N122-Q9BVC4-Q9Y243,\n",
       " Complex: COMPLEX:O15530-P0CG48-P23443-P42345-P52736-Q6R327-Q8N122-Q96BR1-Q9BPZ7-Q9BVC4-Q9NY26,\n",
       " Complex: COMPLEX:O15530-P23443-P42345-P62753-Q6R327-Q8N122-Q96BR1-Q9BPZ7-Q9BVC4-Q9NY26-Q9UBS0,\n",
       " Complex: COMPLEX:O15530-P23443-P42345-Q6R327-Q8N122-Q96BR1-Q96J02-Q9BPZ7-Q9BVC4-Q9NY26,\n",
       " Complex: COMPLEX:O15530-P23443-P42345-Q6R327-Q8N122-Q96BR1-Q9BPZ7-Q9BVC4-Q9HBY8-Q9NY26,\n",
       " Complex: COMPLEX:O43156-O75925-P36508-P42345-Q9BVM2-Q9H6T3-Q9Y230-Q9Y265,\n",
       " Complex: COMPLEX:O43156-O95619-P42345-Q71UI9-Q92993-Q9H0E9-Q9H6T3-Q9NPF5-Q9UBU8-Q9Y230-Q9Y265-Q9Y4A5,\n",
       " Complex: COMPLEX:O43156-O95831-P42345-Q6NUQ4-Q9BVM2-Q9H6T3-Q9Y230-Q9Y265,\n",
       " Complex: COMPLEX:O43156-P11766-P42345-Q6NXG1-Q96CM8-Q9BVM2-Q9H6T3-Q9Y230-Q9Y265,\n",
       " Complex: COMPLEX:O43156-P11766-P42345-Q96CM8-Q9BTY7-Q9BVM2-Q9H6T3-Q9Y230-Q9Y265,\n",
       " Complex: COMPLEX:O43156-P19388-P42345-P46934-Q6ZTN6-Q9BVM2-Q9H6T3-Q9Y230-Q9Y265-Q9Y4A5,\n",
       " Complex: COMPLEX:O43156-P20226-P36508-P42345-Q9BVM2-Q9H6T3-Q9Y230-Q9Y265,\n",
       " Complex: COMPLEX:O43156-P25490-P42345-Q6PI98-Q8NBZ0-Q9H6T3-Q9H981-Q9H9F9-Q9Y230-Q9Y265-Q9Y5K5,\n",
       " Complex: COMPLEX:O43156-P30533-P42345-Q14677-Q9H6T3-Q9Y230-Q9Y265,\n",
       " Complex: COMPLEX:O43156-P42345-P54278-Q6NUQ4-Q9BVM2-Q9H6T3-Q9Y230-Q9Y265,\n",
       " Complex: COMPLEX:O43156-P42345-P61254-Q5JWF2-Q9BVM2-Q9H6T3-Q9Y230-Q9Y265,\n",
       " Complex: COMPLEX:O43156-P42345-P63104-Q6NXG1-Q9BVM2-Q9H6T3-Q9NX40-Q9Y230-Q9Y265,\n",
       " Complex: COMPLEX:O43156-P42345-Q14677-Q9H6T3-Q9Y230-Q9Y265-Q9Y4A5,\n",
       " Complex: COMPLEX:O43156-P42345-Q15029-Q96MX6-Q9H6T3-Q9Y230-Q9Y265,\n",
       " Complex: COMPLEX:P05387-P0CG48-P18124-P18621-P42345-P47914-P61254-P62750-P62899-Q02543-Q02878-Q70Z35-Q9NY93-Q9Y3U8,\n",
       " Complex: COMPLEX:P06730-P23443-P42345-P55884-Q13542-Q6R327-Q8N122-Q9BVC4,\n",
       " Complex: COMPLEX:P06730-P23443-P42345-Q13542-Q15208-Q6R327-Q8N122-Q9BVC4,\n",
       " Complex: COMPLEX:P0CG48-P23443-P42345-P62753-Q6R327-Q8N122-Q96BR1-Q96J02-Q9BPZ7-Q9BVC4-Q9NY26,\n",
       " Complex: COMPLEX:P15056-P23443-P42345-P49815-P62258-P62834-P63104-Q15382-Q6R327-Q8N122-Q9BVC4,\n",
       " Complex: COMPLEX:P23443-P42345,\n",
       " Complex: COMPLEX:P42345,\n",
       " Complex TORC2 complex: COMPLEX:P42345-P62750-Q6R327,\n",
       " Complex FKBP12-FK506 complex: COMPLEX:P42345-P62942,\n",
       " Complex: COMPLEX:P42345-P83436-Q14746-Q8WTW3-Q96JB2-Q96MW5-Q9H9E3-Q9UP83-Q9Y2V7,\n",
       " Complex: COMPLEX:P42345-Q00688,\n",
       " Complex: COMPLEX:P42345-Q02790,\n",
       " Complex: COMPLEX:P42345-Q13451,\n",
       " Complex: COMPLEX:P42345-Q13535-Q92616-Q9UIA9,\n",
       " Complex: COMPLEX:P42345-Q13535-Q96QU8,\n",
       " Complex: COMPLEX:P42345-Q13535-Q96QU8-Q9UIA9,\n",
       " Complex: COMPLEX:P42345-Q13541-Q15382-Q8N122-Q9BVC4,\n",
       " Complex: COMPLEX:P42345-Q13541-Q8N122-Q9BVC4,\n",
       " Complex TORC 2 complex: COMPLEX:P42345-Q3KP44-Q6R327-Q9BPZ7-Q9BVC4,\n",
       " Complex NSC: COMPLEX:P42345-Q6R327-Q8N122-Q9BVC4,\n",
       " Complex mTORC2 complex: COMPLEX:P42345-Q6R327-Q9BPZ7-Q9BVC4,\n",
       " Complex mTOR complex (MTOR, RICTOR, MLST8): COMPLEX:P42345-Q6R327-Q9BVC4,\n",
       " Complex mTOR complex (MTOR, RAPTOR): COMPLEX:P42345-Q8N122,\n",
       " Complex mTORC1: COMPLEX:P42345-Q8N122-Q8TB45-Q96B36-Q9BVC4,\n",
       " Complex TORC1 complex: COMPLEX:P42345-Q8N122-Q96B36,\n",
       " Complex mTOR complex (MTOR, RAPTOR, MLST8): COMPLEX:P42345-Q8N122-Q9BVC4,\n",
       " Complex: COMPLEX:P42345-Q96B36-Q9BVC4,\n",
       " Complex: COMPLEX:P42345-Q9BVC4,\n",
       " Complex: COMPLEX:P42345-Q9BVC4-Q9UJ68}"
      ]
     },
     "execution_count": 5,
     "metadata": {},
     "output_type": "execute_result"
    }
   ],
   "source": [
    "complexdb.proteins['P42345']"
   ]
  },
  {
   "cell_type": "markdown",
   "metadata": {},
   "source": [
    "Note some of the complexes have human readable names, these are preferred at printing if available from any of the databases. Otherwise the complexes are labelled by `COMPLEX:list-of-components`."
   ]
  },
  {
   "cell_type": "markdown",
   "metadata": {},
   "source": [
    "Take a closer look on one complex object. The hash of the is equivalent with the string representation below, where the UniProt IDs are unique and alphabetically sorted. Hence you can look up complexes using strings as keys despite the dict keys are indeed `pypath.intera.Complex` objects:"
   ]
  },
  {
   "cell_type": "code",
   "execution_count": 6,
   "metadata": {},
   "outputs": [],
   "source": [
    "cplex = complexdb.complexes['COMPLEX:P42345-Q13451']"
   ]
  },
  {
   "cell_type": "code",
   "execution_count": 7,
   "metadata": {},
   "outputs": [
    {
     "data": {
      "text/plain": [
       "{'Q13451': 2, 'P42345': 2}"
      ]
     },
     "execution_count": 7,
     "metadata": {},
     "output_type": "execute_result"
    }
   ],
   "source": [
    "cplex.components # stoichiometry"
   ]
  },
  {
   "cell_type": "code",
   "execution_count": 8,
   "metadata": {},
   "outputs": [
    {
     "data": {
      "text/plain": [
       "{'PDB'}"
      ]
     },
     "execution_count": 8,
     "metadata": {},
     "output_type": "execute_result"
    }
   ],
   "source": [
    "cplex.sources # resources"
   ]
  },
  {
   "cell_type": "markdown",
   "metadata": {},
   "source": [
    "## 17: Saving datasets as pickles <a class=\"anchor\" id=\"pickle\"></a>"
   ]
  },
  {
   "cell_type": "markdown",
   "metadata": {},
   "source": [
    "The large datasets above are compiled from many resources. Even if these are already available in the cache, the data processing often takes longer than convenient, e.g. few minutes. Most of the data integration objects in `pypath` provide methods to save and load their contents as pickle dumps."
   ]
  },
  {
   "cell_type": "code",
   "execution_count": null,
   "metadata": {},
   "outputs": [],
   "source": [
    "# for `pypath.main.PyPath` objects:\n",
    "pa.save_network('mynetwork.pickle') # save\n",
    "pa.init_network(pfile = 'mynetwork.pickle') # load\n",
    "# for `pypath.annot.AnnotationTable` objects:\n",
    "a.save_to_pickle('myannots.pickle')\n",
    "a = annot.AnnotationTable(pickle_file = 'myannots.pickle')\n",
    "# for `pypath.complex.ComplexAggregator` objects:\n",
    "complexdb.save_to_pickle('mycomplexes.pickle')\n",
    "complexdb = complex.ComplexAggregator(pickle_file = 'mycomplexes.pickle')"
   ]
  },
  {
   "cell_type": "markdown",
   "metadata": {},
   "source": [
    "## 18: Network in *pandas.DataFrame* <a class=\"anchor\" id=\"network-pandas\"></a>"
   ]
  },
  {
   "cell_type": "markdown",
   "metadata": {},
   "source": [
    "The original implementation of the network in `pypath` is based on `igraph`. Work is ongoing to provide a new and more flexible network builder which will result `pandas.DataFrame` and to make `pypath` independent from `igraph`. As a temporary solution you can easily convert the network to a `pandas.DataFrame` using the `pypath.network` module."
   ]
  },
  {
   "cell_type": "code",
   "execution_count": null,
   "metadata": {},
   "outputs": [],
   "source": [
    "from pypath import main\n",
    "from pypath import data_formats\n",
    "from pypath import network"
   ]
  },
  {
   "cell_type": "code",
   "execution_count": null,
   "metadata": {},
   "outputs": [],
   "source": [
    "pa = main.PyPath()\n",
    "pa.init_network(data_formats.pathway_all)"
   ]
  },
  {
   "cell_type": "code",
   "execution_count": null,
   "metadata": {},
   "outputs": [],
   "source": [
    "net = network.Network.from_igraph(pa)"
   ]
  },
  {
   "cell_type": "code",
   "execution_count": null,
   "metadata": {},
   "outputs": [],
   "source": [
    "net.records[:10]"
   ]
  },
  {
   "cell_type": "markdown",
   "metadata": {},
   "source": [
    "## 19: Log messages and sessions <a class=\"anchor\" id=\"log-session\"></a>"
   ]
  },
  {
   "cell_type": "markdown",
   "metadata": {},
   "source": [
    "Now `pypath` has an improved logger. All modules sends messages to a log file named by default by the session ID (a 5 char random string). The default path to the log file is `./pypath_log/pypath-xxxxx.log` where `xxxxx` is the session ID. When you import `pypath` the welcome message tells you the session ID and the log file location."
   ]
  },
  {
   "cell_type": "code",
   "execution_count": 1,
   "metadata": {},
   "outputs": [
    {
     "name": "stdout",
     "output_type": "stream",
     "text": [
      "\n",
      "\t=== d i s c l a i m e r ===\n",
      "\n",
      "\tAll data accessed through this module,\n",
      "\teither as redistributed copy or downloaded using the\n",
      "\tprogrammatic interfaces included in the present module,\n",
      "\tare free to use at least for academic research or\n",
      "\teducation purposes.\n",
      "\tPlease be aware of the licenses of all the datasets\n",
      "\tyou use in your analysis, and please give appropriate\n",
      "\tcredits for the original sources when you publish your\n",
      "\tresults. To find out more about data sources please\n",
      "\tlook at `pypath.descriptions` or\n",
      "\thttp://omnipathdb.org/info and \n",
      "\t`pypath.data_formats.urls`.\n",
      "\n",
      "[2019-09-02 13:23:28] [pypath] \n",
      "\t- session ID: `vc1lm`\n",
      "\t- working directory: `/home/denes/Dokumentumok/norwich2019`\n",
      "\t- logfile: `/home/denes/Dokumentumok/norwich2019/pypath_log/pypath-vc1lm.log`\n",
      "\t- pypath version: 0.8.30\n",
      "\n"
     ]
    }
   ],
   "source": [
    "import pypath"
   ]
  },
  {
   "cell_type": "markdown",
   "metadata": {},
   "source": [
    "Also by default this is the only message `pypath` prints directly to the console, otherwise it only messages to the log. Here is how you can access the session ID and the logger:"
   ]
  },
  {
   "cell_type": "code",
   "execution_count": 2,
   "metadata": {},
   "outputs": [
    {
     "data": {
      "text/plain": [
       "<pypath.session_mod.Session at 0x68fc081b9e90>"
      ]
     },
     "execution_count": 2,
     "metadata": {},
     "output_type": "execute_result"
    }
   ],
   "source": [
    "pypath.session_mod.session"
   ]
  },
  {
   "cell_type": "code",
   "execution_count": 3,
   "metadata": {},
   "outputs": [
    {
     "data": {
      "text/plain": [
       "'/home/denes/Dokumentumok/norwich2019/pypath_log/pypath-vc1lm.log'"
      ]
     },
     "execution_count": 3,
     "metadata": {},
     "output_type": "execute_result"
    }
   ],
   "source": [
    "pypath.session_mod.session.log.fname"
   ]
  },
  {
   "cell_type": "code",
   "execution_count": 4,
   "metadata": {},
   "outputs": [
    {
     "data": {
      "text/plain": [
       "'vc1lm'"
      ]
     },
     "execution_count": 4,
     "metadata": {},
     "output_type": "execute_result"
    }
   ],
   "source": [
    "pypath.session_mod.session.label"
   ]
  },
  {
   "cell_type": "markdown",
   "metadata": {},
   "source": [
    "From your scripts and apps you can also easily send messages to the logfile:"
   ]
  },
  {
   "cell_type": "code",
   "execution_count": 5,
   "metadata": {},
   "outputs": [],
   "source": [
    "pypath.session_mod.session.log.msg('Greetings from the pypath tutorial notebook! :)')"
   ]
  },
  {
   "cell_type": "code",
   "execution_count": 6,
   "metadata": {},
   "outputs": [],
   "source": [
    "with open(pypath.session_mod.session.log.fname, 'r') as fp:\n",
    "    messages = fp.read().split('\\n')"
   ]
  },
  {
   "cell_type": "code",
   "execution_count": 7,
   "metadata": {},
   "outputs": [
    {
     "name": "stdout",
     "output_type": "stream",
     "text": [
      "[2019-09-02 13:23:28] Welcome!\n",
      "[2019-09-02 13:23:28] Logger started, logging into `/home/denes/Dokumentumok/norwich2019/pypath_log/pypath-vc1lm.log`.\n",
      "[2019-09-02 13:23:28] Session `vc1lm` started.\n",
      "[2019-09-02 13:23:28] [pypath] \n",
      "\t- session ID: `vc1lm`\n",
      "\t- working directory: `/home/denes/Dokumentumok/norwich2019`\n",
      "\t- logfile: `/home/denes/Dokumentumok/norwich2019/pypath_log/pypath-vc1lm.log`\n",
      "\t- pypath version: 0.8.30\n",
      "[2019-09-02 13:23:40] Greetings from the pypath tutorial notebook! :)\n",
      "\n"
     ]
    }
   ],
   "source": [
    "print('\\n'.join(messages))"
   ]
  },
  {
   "cell_type": "markdown",
   "metadata": {},
   "source": [
    "If you create a class inheriting from `pypath.session_mod.Logger` it will be automatically connected to the session logger:"
   ]
  },
  {
   "cell_type": "code",
   "execution_count": 9,
   "metadata": {},
   "outputs": [
    {
     "name": "stdout",
     "output_type": "stream",
     "text": [
      "[2019-09-02 13:23:28] Welcome!\n",
      "[2019-09-02 13:23:28] Logger started, logging into `/home/denes/Dokumentumok/norwich2019/pypath_log/pypath-vc1lm.log`.\n",
      "[2019-09-02 13:23:28] Session `vc1lm` started.\n",
      "[2019-09-02 13:23:28] [pypath] \n",
      "\t- session ID: `vc1lm`\n",
      "\t- working directory: `/home/denes/Dokumentumok/norwich2019`\n",
      "\t- logfile: `/home/denes/Dokumentumok/norwich2019/pypath_log/pypath-vc1lm.log`\n",
      "\t- pypath version: 0.8.30\n",
      "[2019-09-02 13:23:40] Greetings from the pypath tutorial notebook! :)\n",
      "[2019-09-02 13:24:00] [child] Have a nice day! :D\n",
      "\n"
     ]
    }
   ],
   "source": [
    "class ChildOfLogger(pypath.session_mod.Logger):\n",
    "    \n",
    "    def __init__(self):\n",
    "        \n",
    "        pypath.session_mod.Logger.__init__(self, name = 'child')\n",
    "    \n",
    "    def say_something(self):\n",
    "        \n",
    "        self._log('Have a nice day! :D')\n",
    "\n",
    "\n",
    "col = ChildOfLogger()\n",
    "col.say_something()\n",
    "\n",
    "with open(pypath.session_mod.session.log.fname, 'r') as fp:\n",
    "    messages = fp.read().split('\\n')\n",
    "\n",
    "print('\\n'.join(messages))"
   ]
  },
  {
   "cell_type": "markdown",
   "metadata": {},
   "source": [
    "Note, the log messages are flushed by default in every 2 seconds, but their timestamps always refer to the exact time the message has been sent. A second stamp shows the name of the sending submodule or class."
   ]
  },
  {
   "cell_type": "markdown",
   "metadata": {},
   "source": [
    "Finally see a log from a real `pypath` session:"
   ]
  },
  {
   "cell_type": "code",
   "execution_count": 10,
   "metadata": {},
   "outputs": [
    {
     "name": "stdout",
     "output_type": "stream",
     "text": [
      "\n"
     ]
    }
   ],
   "source": [
    "from pypath import main\n",
    "from pypath import data_formats\n",
    "pa = main.PyPath()\n",
    "pa.init_network(data_formats.pathway)"
   ]
  },
  {
   "cell_type": "code",
   "execution_count": 11,
   "metadata": {},
   "outputs": [
    {
     "name": "stdout",
     "output_type": "stream",
     "text": [
      "[2019-09-02 13:26:15] [network] Edge attribute `negative` has only None values\n",
      "[2019-09-02 13:26:17] [network] load_resources(): all resources have been loaded, current number of nodes: 5243, edges: 22796\n",
      "[2019-09-02 13:26:17] [network] Removing duplicate edges...\n",
      "[2019-09-02 13:26:18] [network] After duplicate edge removal: number of nodes: 5243, edges: 22214\n",
      "[2019-09-02 13:26:18] [network] After removing unmapped nodes: number of nodes: 5243, edges: 22214\n",
      "[2019-09-02 13:26:18] [network] Updating network component lookup dictionaries.\n",
      "[2019-09-02 13:26:18] [network] Updating vertex labels.\n",
      "[2019-09-02 13:26:18] [network] After removing unknown organism nodes: number of nodes: 5243, edges: 22214\n",
      "[2019-09-02 13:26:18] [network] Updating network component lookup dictionaries.\n",
      "[2019-09-02 13:26:18] [network] Updating vertex labels.\n",
      "[2019-09-02 13:26:18] [network] Checking network components against reference lists.\n",
      "[2019-09-02 13:26:18] [reflists] ReferenceListManager has been created.\n",
      "[2019-09-02 13:26:18] [reflists] Reference list for ID type `uniprot` for organism `9606` has been loaded from `/home/denes/.pypath/cache/1f4ae16dfa769c5591aceeef23928803`.\n",
      "[2019-09-02 13:26:18] [network] Updating network component lookup dictionaries.\n",
      "[2019-09-02 13:26:18] [network] Updating vertex labels.\n",
      "[2019-09-02 13:26:18] [network] After removing zero degree nodes: number of node: 5213, edges: 22214\n",
      "[2019-09-02 13:26:18] [network] Updating network component lookup dictionaries.\n",
      "[2019-09-02 13:26:18] [network] Updating vertex labels.\n",
      "[2019-09-02 13:26:19] [network] Network has been built with 22214 interactions between 5213 nodes from 14 resources\n",
      "\n"
     ]
    }
   ],
   "source": [
    "with open(pypath.session_mod.session.log.fname, 'r') as fp:\n",
    "    messages = fp.read().split('\\n')\n",
    "\n",
    "print('\\n'.join(messages[-20:]))"
   ]
  },
  {
   "cell_type": "markdown",
   "metadata": {},
   "source": [
    "## 20: BEL export <a class=\"anchor\" id=\"bel\"></a>"
   ]
  },
  {
   "cell_type": "markdown",
   "metadata": {},
   "source": [
    "Biological Expression Language (BEL, https://bel-commons.scai.fraunhofer.de/) is a versatile description language to capture relationships between various biological entities spanning wide range of the levels of biological organization. `pypath` has a dedicated module to convert the network and the enzyme-substrate interactions to BEL format:"
   ]
  },
  {
   "cell_type": "code",
   "execution_count": 12,
   "metadata": {},
   "outputs": [],
   "source": [
    "from pypath import main\n",
    "from pypath import data_formats\n",
    "from pypath import bel"
   ]
  },
  {
   "cell_type": "code",
   "execution_count": null,
   "metadata": {},
   "outputs": [],
   "source": [
    "pa = main.PyPath()\n",
    "pa.init_network(data_formats.pathway)"
   ]
  },
  {
   "cell_type": "markdown",
   "metadata": {},
   "source": [
    "You can provide one or more resources to the `Bel` class. Supported resources currently are `pypath.main.PyPath` and `pypath.ptm.PtmAggregator`."
   ]
  },
  {
   "cell_type": "code",
   "execution_count": 13,
   "metadata": {},
   "outputs": [],
   "source": [
    "b = bel.Bel(resource = pa)"
   ]
  },
  {
   "cell_type": "markdown",
   "metadata": {},
   "source": [
    "From the resources we compile a `BELGraph` object which provides a Python interface for various operations and you can also export the data in BEL format:"
   ]
  },
  {
   "cell_type": "code",
   "execution_count": 14,
   "metadata": {},
   "outputs": [
    {
     "data": {
      "text/plain": [
       "<pypath.bel.Bel at 0x68fbbc954d50>"
      ]
     },
     "execution_count": 14,
     "metadata": {},
     "output_type": "execute_result"
    }
   ],
   "source": [
    "b.main()"
   ]
  },
  {
   "cell_type": "code",
   "execution_count": 15,
   "metadata": {},
   "outputs": [
    {
     "data": {
      "text/plain": [
       "<pybel.struct.graph.BELGraph at 0x68fbbc954d90>"
      ]
     },
     "execution_count": 15,
     "metadata": {},
     "output_type": "execute_result"
    }
   ],
   "source": [
    "b.bel_graph"
   ]
  },
  {
   "cell_type": "code",
   "execution_count": 16,
   "metadata": {},
   "outputs": [
    {
     "name": "stdout",
     "output_type": "stream",
     "text": [
      "OmniPath vNone\n",
      "Number of Nodes: 5213\n",
      "Number of Edges: 71410\n",
      "Number of Citations: 12533\n",
      "Number of Authors: 0\n",
      "Network Density: 2.63E-03\n",
      "Number of Components: 94\n",
      "Number of Warnings: 0\n"
     ]
    }
   ],
   "source": [
    "b.bel_graph.summarize()"
   ]
  },
  {
   "cell_type": "code",
   "execution_count": 17,
   "metadata": {},
   "outputs": [],
   "source": [
    "b.export_relationships('omnipath_pathways.bel')"
   ]
  },
  {
   "cell_type": "code",
   "execution_count": 18,
   "metadata": {},
   "outputs": [],
   "source": [
    "with open('omnipath_pathways.bel', 'r') as fp:\n",
    "    bel_str = fp.read()"
   ]
  },
  {
   "cell_type": "code",
   "execution_count": 19,
   "metadata": {},
   "outputs": [
    {
     "name": "stdout",
     "output_type": "stream",
     "text": [
      "Subject\tPredicate\tObject\n",
      "P05937\tdirectlyIncreases\tQ9NQA5\n",
      "P05937\tdirectlyIncreases\tQ9NQA5\n",
      "Q9NQA5\tdirectlyIncreases\tQ9H1D0\n",
      "Q9NQA5\tdirectlyIncreases\tQ9H1D0\n",
      "Q9NQA5\tdirectlyIncreases\tQ9H1D0\n",
      "Q9NQA5\tdirectlyIncreases\tQ9H1D0\n",
      "Q9NQA5\tdirectlyIncreases\tQ8TDD5\n",
      "Q9NQA5\tdirectlyIncreases\tQ8TDD5\n",
      "Q9UEF7\tdirectlyIncreases\tQ9NQA5\n",
      "Q9UEF7\tdirectlyIncre\n"
     ]
    }
   ],
   "source": [
    "print(bel_str[:333])"
   ]
  },
  {
   "cell_type": "markdown",
   "metadata": {},
   "source": [
    "## 21: CellPhoneDB export <a class=\"anchor\" id=\"cellphonedb\"></a>"
   ]
  },
  {
   "cell_type": "markdown",
   "metadata": {},
   "source": [
    "CellPhoneDB is a statistical method and a database for inferring inter-cellular communication pathways between specific cell types from single-cell data. OmniPath/pypath uses CellPhoneDB as a resource for interaction, protein complex and annotation data. Apart from this, pypath is able to export its data in the appropriate format to provide input for the CellPhoneDB Python module. For this you can use the `pypath.cellphonedb` module:"
   ]
  },
  {
   "cell_type": "code",
   "execution_count": 2,
   "metadata": {},
   "outputs": [],
   "source": [
    "from pypath import cellphonedb\n",
    "from pypath import settings\n",
    "\n",
    "settings.setup(network_expand_complexes = False)"
   ]
  },
  {
   "cell_type": "markdown",
   "metadata": {},
   "source": [
    "Here you can provide parameters for the network or provide an already built network. Also you can provide the datasets as pickles to make them load really fast. Otherwise this step will take quite long."
   ]
  },
  {
   "cell_type": "code",
   "execution_count": 3,
   "metadata": {},
   "outputs": [
    {
     "name": "stdout",
     "output_type": "stream",
     "text": [
      "\n"
     ]
    }
   ],
   "source": [
    "c = cellphonedb.CellPhoneDB()"
   ]
  },
  {
   "cell_type": "markdown",
   "metadata": {},
   "source": [
    "You can access each of the CellPhoneDB input files as a `pandas.DataFrame` and also they've been exported to csv files. For example the `interaction_input.csv` contains interactions from all the resources used for building the network (here Signor, SingnaLink, etc.):"
   ]
  },
  {
   "cell_type": "code",
   "execution_count": 4,
   "metadata": {},
   "outputs": [
    {
     "data": {
      "text/html": [
       "<div>\n",
       "<style scoped>\n",
       "    .dataframe tbody tr th:only-of-type {\n",
       "        vertical-align: middle;\n",
       "    }\n",
       "\n",
       "    .dataframe tbody tr th {\n",
       "        vertical-align: top;\n",
       "    }\n",
       "\n",
       "    .dataframe thead th {\n",
       "        text-align: right;\n",
       "    }\n",
       "</style>\n",
       "<table border=\"1\" class=\"dataframe\">\n",
       "  <thead>\n",
       "    <tr style=\"text-align: right;\">\n",
       "      <th></th>\n",
       "      <th>id_cp_interaction</th>\n",
       "      <th>partner_a</th>\n",
       "      <th>partner_b</th>\n",
       "      <th>protein_name_a</th>\n",
       "      <th>protein_name_b</th>\n",
       "      <th>annotation_strategy</th>\n",
       "      <th>source</th>\n",
       "    </tr>\n",
       "  </thead>\n",
       "  <tbody>\n",
       "    <tr>\n",
       "      <th>0</th>\n",
       "      <td>CPI-000001</td>\n",
       "      <td>Q13976</td>\n",
       "      <td>P50552</td>\n",
       "      <td>KGP1_HUMAN</td>\n",
       "      <td>VASP_HUMAN</td>\n",
       "      <td>KEGG,OmniPath,Signor</td>\n",
       "      <td>PMID: ,PMID: 2576312,PMID: 4679200</td>\n",
       "    </tr>\n",
       "    <tr>\n",
       "      <th>1</th>\n",
       "      <td>CPI-000001</td>\n",
       "      <td>Q13976</td>\n",
       "      <td>Q92934</td>\n",
       "      <td>KGP1_HUMAN</td>\n",
       "      <td>BAD_HUMAN</td>\n",
       "      <td>KEGG,OmniPath</td>\n",
       "      <td>PMID:</td>\n",
       "    </tr>\n",
       "    <tr>\n",
       "      <th>2</th>\n",
       "      <td>CPI-000002</td>\n",
       "      <td>Q13976</td>\n",
       "      <td>Q13164</td>\n",
       "      <td>KGP1_HUMAN</td>\n",
       "      <td>MK07_HUMAN</td>\n",
       "      <td>OmniPath,Wang</td>\n",
       "      <td>PMID:</td>\n",
       "    </tr>\n",
       "    <tr>\n",
       "      <th>3</th>\n",
       "      <td>CPI-000003</td>\n",
       "      <td>Q13976</td>\n",
       "      <td>Q13153</td>\n",
       "      <td>KGP1_HUMAN</td>\n",
       "      <td>PAK1_HUMAN</td>\n",
       "      <td>OmniPath,SignaLink3</td>\n",
       "      <td>PMID: 16490784</td>\n",
       "    </tr>\n",
       "    <tr>\n",
       "      <th>4</th>\n",
       "      <td>CPI-000004</td>\n",
       "      <td>Q13976</td>\n",
       "      <td>Q02156</td>\n",
       "      <td>KGP1_HUMAN</td>\n",
       "      <td>KPCE_HUMAN</td>\n",
       "      <td>KEGG,OmniPath</td>\n",
       "      <td>PMID:</td>\n",
       "    </tr>\n",
       "    <tr>\n",
       "      <th>5</th>\n",
       "      <td>CPI-000005</td>\n",
       "      <td>P17252</td>\n",
       "      <td>Q13976</td>\n",
       "      <td>KPCA_HUMAN</td>\n",
       "      <td>KGP1_HUMAN</td>\n",
       "      <td>OmniPath,Signor</td>\n",
       "      <td>PMID: 12609995</td>\n",
       "    </tr>\n",
       "    <tr>\n",
       "      <th>6</th>\n",
       "      <td>CPI-000006</td>\n",
       "      <td>Q13976</td>\n",
       "      <td>P04792</td>\n",
       "      <td>KGP1_HUMAN</td>\n",
       "      <td>HSPB1_HUMAN</td>\n",
       "      <td>OmniPath,Signor</td>\n",
       "      <td>PMID: 19593530</td>\n",
       "    </tr>\n",
       "    <tr>\n",
       "      <th>7</th>\n",
       "      <td>CPI-000007</td>\n",
       "      <td>Q13976</td>\n",
       "      <td>P11831</td>\n",
       "      <td>KGP1_HUMAN</td>\n",
       "      <td>SRF_HUMAN</td>\n",
       "      <td>OmniPath,Signor</td>\n",
       "      <td>PMID: 19778940</td>\n",
       "    </tr>\n",
       "    <tr>\n",
       "      <th>8</th>\n",
       "      <td>CPI-000008</td>\n",
       "      <td>Q13976</td>\n",
       "      <td>Q16539</td>\n",
       "      <td>KGP1_HUMAN</td>\n",
       "      <td>MK14_HUMAN</td>\n",
       "      <td>KEGG,OmniPath</td>\n",
       "      <td>PMID:</td>\n",
       "    </tr>\n",
       "    <tr>\n",
       "      <th>9</th>\n",
       "      <td>CPI-000009</td>\n",
       "      <td>Q13976</td>\n",
       "      <td>Q14847</td>\n",
       "      <td>KGP1_HUMAN</td>\n",
       "      <td>LASP1_HUMAN</td>\n",
       "      <td>OmniPath,Signor</td>\n",
       "      <td>PMID: 12571245</td>\n",
       "    </tr>\n",
       "  </tbody>\n",
       "</table>\n",
       "</div>"
      ],
      "text/plain": [
       "  id_cp_interaction partner_a partner_b protein_name_a protein_name_b  \\\n",
       "0        CPI-000001    Q13976    P50552     KGP1_HUMAN     VASP_HUMAN   \n",
       "1        CPI-000001    Q13976    Q92934     KGP1_HUMAN      BAD_HUMAN   \n",
       "2        CPI-000002    Q13976    Q13164     KGP1_HUMAN     MK07_HUMAN   \n",
       "3        CPI-000003    Q13976    Q13153     KGP1_HUMAN     PAK1_HUMAN   \n",
       "4        CPI-000004    Q13976    Q02156     KGP1_HUMAN     KPCE_HUMAN   \n",
       "5        CPI-000005    P17252    Q13976     KPCA_HUMAN     KGP1_HUMAN   \n",
       "6        CPI-000006    Q13976    P04792     KGP1_HUMAN    HSPB1_HUMAN   \n",
       "7        CPI-000007    Q13976    P11831     KGP1_HUMAN      SRF_HUMAN   \n",
       "8        CPI-000008    Q13976    Q16539     KGP1_HUMAN     MK14_HUMAN   \n",
       "9        CPI-000009    Q13976    Q14847     KGP1_HUMAN    LASP1_HUMAN   \n",
       "\n",
       "    annotation_strategy                              source  \n",
       "0  KEGG,OmniPath,Signor  PMID: ,PMID: 2576312,PMID: 4679200  \n",
       "1         KEGG,OmniPath                              PMID:   \n",
       "2         OmniPath,Wang                              PMID:   \n",
       "3   OmniPath,SignaLink3                      PMID: 16490784  \n",
       "4         KEGG,OmniPath                              PMID:   \n",
       "5       OmniPath,Signor                      PMID: 12609995  \n",
       "6       OmniPath,Signor                      PMID: 19593530  \n",
       "7       OmniPath,Signor                      PMID: 19778940  \n",
       "8         KEGG,OmniPath                              PMID:   \n",
       "9       OmniPath,Signor                      PMID: 12571245  "
      ]
     },
     "execution_count": 4,
     "metadata": {},
     "output_type": "execute_result"
    }
   ],
   "source": [
    "c.interaction_dataframe[:10]"
   ]
  },
  {
   "cell_type": "markdown",
   "metadata": {},
   "source": [
    "The proteins and complexes are annotated (transmembrane, peripheral, secreted, etc.) using data from the `pypath.intercell` module (identical to the http://omnipathdb.org/intercell query of the web service):"
   ]
  },
  {
   "cell_type": "code",
   "execution_count": 15,
   "metadata": {},
   "outputs": [
    {
     "data": {
      "text/html": [
       "<div>\n",
       "<style scoped>\n",
       "    .dataframe tbody tr th:only-of-type {\n",
       "        vertical-align: middle;\n",
       "    }\n",
       "\n",
       "    .dataframe tbody tr th {\n",
       "        vertical-align: top;\n",
       "    }\n",
       "\n",
       "    .dataframe thead th {\n",
       "        text-align: right;\n",
       "    }\n",
       "</style>\n",
       "<table border=\"1\" class=\"dataframe\">\n",
       "  <thead>\n",
       "    <tr style=\"text-align: right;\">\n",
       "      <th></th>\n",
       "      <th>uniprot</th>\n",
       "      <th>protein_name</th>\n",
       "      <th>transmembrane</th>\n",
       "      <th>peripheral</th>\n",
       "      <th>secreted</th>\n",
       "      <th>secreted_desc</th>\n",
       "      <th>secreted_highlight</th>\n",
       "      <th>receptor</th>\n",
       "      <th>receptor_desc</th>\n",
       "      <th>integrin</th>\n",
       "      <th>other</th>\n",
       "      <th>other_desc</th>\n",
       "      <th>tags</th>\n",
       "      <th>tags_reason</th>\n",
       "      <th>tags_description</th>\n",
       "    </tr>\n",
       "  </thead>\n",
       "  <tbody>\n",
       "    <tr>\n",
       "      <th>0</th>\n",
       "      <td>O14905</td>\n",
       "      <td>WNT9B_HUMAN</td>\n",
       "      <td>False</td>\n",
       "      <td>False</td>\n",
       "      <td>True</td>\n",
       "      <td></td>\n",
       "      <td></td>\n",
       "      <td>False</td>\n",
       "      <td></td>\n",
       "      <td>False</td>\n",
       "      <td></td>\n",
       "      <td></td>\n",
       "      <td></td>\n",
       "      <td></td>\n",
       "      <td></td>\n",
       "    </tr>\n",
       "    <tr>\n",
       "      <th>1</th>\n",
       "      <td>Q14790</td>\n",
       "      <td>CASP8_HUMAN</td>\n",
       "      <td>True</td>\n",
       "      <td>False</td>\n",
       "      <td>True</td>\n",
       "      <td></td>\n",
       "      <td></td>\n",
       "      <td>False</td>\n",
       "      <td></td>\n",
       "      <td>False</td>\n",
       "      <td></td>\n",
       "      <td></td>\n",
       "      <td></td>\n",
       "      <td></td>\n",
       "      <td></td>\n",
       "    </tr>\n",
       "    <tr>\n",
       "      <th>2</th>\n",
       "      <td>Q92729</td>\n",
       "      <td>PTPRU_HUMAN</td>\n",
       "      <td>True</td>\n",
       "      <td>True</td>\n",
       "      <td>False</td>\n",
       "      <td></td>\n",
       "      <td></td>\n",
       "      <td>True</td>\n",
       "      <td></td>\n",
       "      <td>False</td>\n",
       "      <td></td>\n",
       "      <td></td>\n",
       "      <td></td>\n",
       "      <td></td>\n",
       "      <td></td>\n",
       "    </tr>\n",
       "    <tr>\n",
       "      <th>3</th>\n",
       "      <td>P01258</td>\n",
       "      <td>CALC_HUMAN</td>\n",
       "      <td>False</td>\n",
       "      <td>False</td>\n",
       "      <td>True</td>\n",
       "      <td></td>\n",
       "      <td></td>\n",
       "      <td>False</td>\n",
       "      <td></td>\n",
       "      <td>False</td>\n",
       "      <td></td>\n",
       "      <td></td>\n",
       "      <td></td>\n",
       "      <td></td>\n",
       "      <td></td>\n",
       "    </tr>\n",
       "    <tr>\n",
       "      <th>4</th>\n",
       "      <td>P01833</td>\n",
       "      <td>PIGR_HUMAN</td>\n",
       "      <td>True</td>\n",
       "      <td>True</td>\n",
       "      <td>False</td>\n",
       "      <td></td>\n",
       "      <td></td>\n",
       "      <td>True</td>\n",
       "      <td></td>\n",
       "      <td>False</td>\n",
       "      <td></td>\n",
       "      <td></td>\n",
       "      <td></td>\n",
       "      <td></td>\n",
       "      <td></td>\n",
       "    </tr>\n",
       "    <tr>\n",
       "      <th>5</th>\n",
       "      <td>Q9HCX4</td>\n",
       "      <td>TRPC7_HUMAN</td>\n",
       "      <td>False</td>\n",
       "      <td>False</td>\n",
       "      <td>False</td>\n",
       "      <td></td>\n",
       "      <td></td>\n",
       "      <td>False</td>\n",
       "      <td></td>\n",
       "      <td>False</td>\n",
       "      <td></td>\n",
       "      <td></td>\n",
       "      <td></td>\n",
       "      <td></td>\n",
       "      <td></td>\n",
       "    </tr>\n",
       "    <tr>\n",
       "      <th>6</th>\n",
       "      <td>Q10588</td>\n",
       "      <td>BST1_HUMAN</td>\n",
       "      <td>True</td>\n",
       "      <td>True</td>\n",
       "      <td>True</td>\n",
       "      <td></td>\n",
       "      <td></td>\n",
       "      <td>False</td>\n",
       "      <td></td>\n",
       "      <td>False</td>\n",
       "      <td></td>\n",
       "      <td></td>\n",
       "      <td></td>\n",
       "      <td></td>\n",
       "      <td></td>\n",
       "    </tr>\n",
       "    <tr>\n",
       "      <th>7</th>\n",
       "      <td>Q92845</td>\n",
       "      <td>KIFA3_HUMAN</td>\n",
       "      <td>False</td>\n",
       "      <td>False</td>\n",
       "      <td>False</td>\n",
       "      <td></td>\n",
       "      <td></td>\n",
       "      <td>False</td>\n",
       "      <td></td>\n",
       "      <td>False</td>\n",
       "      <td></td>\n",
       "      <td></td>\n",
       "      <td></td>\n",
       "      <td></td>\n",
       "      <td></td>\n",
       "    </tr>\n",
       "    <tr>\n",
       "      <th>8</th>\n",
       "      <td>O60258</td>\n",
       "      <td>FGF17_HUMAN</td>\n",
       "      <td>False</td>\n",
       "      <td>False</td>\n",
       "      <td>True</td>\n",
       "      <td></td>\n",
       "      <td></td>\n",
       "      <td>False</td>\n",
       "      <td></td>\n",
       "      <td>False</td>\n",
       "      <td></td>\n",
       "      <td></td>\n",
       "      <td></td>\n",
       "      <td></td>\n",
       "      <td></td>\n",
       "    </tr>\n",
       "    <tr>\n",
       "      <th>9</th>\n",
       "      <td>P51679</td>\n",
       "      <td>CCR4_HUMAN</td>\n",
       "      <td>True</td>\n",
       "      <td>True</td>\n",
       "      <td>False</td>\n",
       "      <td></td>\n",
       "      <td></td>\n",
       "      <td>True</td>\n",
       "      <td></td>\n",
       "      <td>False</td>\n",
       "      <td></td>\n",
       "      <td></td>\n",
       "      <td></td>\n",
       "      <td></td>\n",
       "      <td></td>\n",
       "    </tr>\n",
       "  </tbody>\n",
       "</table>\n",
       "</div>"
      ],
      "text/plain": [
       "  uniprot protein_name  transmembrane  peripheral  secreted secreted_desc  \\\n",
       "0  O14905  WNT9B_HUMAN          False       False      True                 \n",
       "1  Q14790  CASP8_HUMAN           True       False      True                 \n",
       "2  Q92729  PTPRU_HUMAN           True        True     False                 \n",
       "3  P01258   CALC_HUMAN          False       False      True                 \n",
       "4  P01833   PIGR_HUMAN           True        True     False                 \n",
       "5  Q9HCX4  TRPC7_HUMAN          False       False     False                 \n",
       "6  Q10588   BST1_HUMAN           True        True      True                 \n",
       "7  Q92845  KIFA3_HUMAN          False       False     False                 \n",
       "8  O60258  FGF17_HUMAN          False       False      True                 \n",
       "9  P51679   CCR4_HUMAN           True        True     False                 \n",
       "\n",
       "  secreted_highlight  receptor receptor_desc  integrin other other_desc tags  \\\n",
       "0                        False                   False                         \n",
       "1                        False                   False                         \n",
       "2                         True                   False                         \n",
       "3                        False                   False                         \n",
       "4                         True                   False                         \n",
       "5                        False                   False                         \n",
       "6                        False                   False                         \n",
       "7                        False                   False                         \n",
       "8                        False                   False                         \n",
       "9                         True                   False                         \n",
       "\n",
       "  tags_reason tags_description  \n",
       "0                               \n",
       "1                               \n",
       "2                               \n",
       "3                               \n",
       "4                               \n",
       "5                               \n",
       "6                               \n",
       "7                               \n",
       "8                               \n",
       "9                               "
      ]
     },
     "execution_count": 15,
     "metadata": {},
     "output_type": "execute_result"
    }
   ],
   "source": [
    "c.protein_dataframe[:10]"
   ]
  }
 ],
 "metadata": {
  "kernelspec": {
   "display_name": "Python 3",
   "language": "python",
   "name": "python3"
  },
  "language_info": {
   "codemirror_mode": {
    "name": "ipython",
    "version": 3
   },
   "file_extension": ".py",
   "mimetype": "text/x-python",
   "name": "python",
   "nbconvert_exporter": "python",
   "pygments_lexer": "ipython3",
   "version": "3.7.4"
  }
 },
 "nbformat": 4,
 "nbformat_minor": 2
}
